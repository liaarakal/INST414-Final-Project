{
 "cells": [
  {
   "cell_type": "markdown",
   "id": "ece02113",
   "metadata": {
    "deletable": false,
    "editable": false,
    "run_control": {
     "frozen": true
    }
   },
   "source": [
    "# Import modules"
   ]
  },
  {
   "cell_type": "code",
   "execution_count": 1,
   "id": "2ca96056",
   "metadata": {
    "ExecuteTime": {
     "end_time": "2022-12-08T02:24:27.324832Z",
     "start_time": "2022-12-08T02:24:27.308466Z"
    }
   },
   "outputs": [],
   "source": [
    "# Code written by Lia Arakal on 12/16/2024\n",
    "import pandas as pd\n",
    "import seaborn as sns\n",
    "\n",
    "from IPython.core.interactiveshell import InteractiveShell\n",
    "InteractiveShell.ast_node_interactivity = \"all\"\n",
    "\n",
    "from sklearn.tree import DecisionTreeClassifier as dt \n",
    "from sklearn.ensemble import RandomForestClassifier as rf\n",
    "from sklearn.model_selection import train_test_split, GridSearchCV\n",
    "\n",
    "# for extra credit\n",
    "from sklearn.calibration import calibration_curve\n",
    "import matplotlib.pyplot as plt\n",
    "import seaborn as sns\n",
    "from sklearn.metrics import precision_score, recall_score, confusion_matrix"
   ]
  },
  {
   "cell_type": "markdown",
   "id": "d869293b",
   "metadata": {
    "deletable": false,
    "editable": false,
    "run_control": {
     "frozen": true
    }
   },
   "source": [
    "# Introduction\n",
    "\n",
    "<p>\n",
    "<img  height=250 width=250 src='https://zjelveh.github.io/files/NM.png' >\n",
    "    <center><em>Map of New Maryland</em></center>\n",
    "</p>\n",
    "\n",
    "You are the governor of the state of New Maryland. You signed a bill into law which requires that the court choose a risk assessment in order to aid judges in their pretrial detention decisions. \n",
    "\n",
    "\n",
    "Some of your stakeholders want you to choose a risk assessment that targets felony crimes. These stakeholders think that, since felony crimes are more socially costly, and since the state budget has been cut, focusing on felony crimes is the most effective way to have the biggest impact on crime given limited resources. They want you to pair this algorithm with a tough-on-crime intervention that detains high-risk individuals. The capacity for the program is **100**. The treatment effect of the intervention is **70%**. \n",
    "\n",
    "Another set of stakeholders want you to choose a risk assessment that targets any crime, regardless of how severe. These stakeholders believe that preventing future crimes can only be achieved by signaling to current arrestees that no type of criminal offense will be treated leniently. These stakeholders also believe that the causes of crime are driven by mental health-related issues. They would like you to pair this algorithm with an intervention that provides online cognitive behavioral health therapy that meets once a month. The capacity for the program is **500**. The treatment effect of the intervention is **20%**.\n",
    "\n",
    "Being a polymath, not only are you the governor of New Maryland, but you are also the state's Chief Data Scientist. In that role, you are going to build two prediction models.\n",
    "\n",
    "- One will predict any re-arrest\n",
    "- One will predict felony re-arrest\n",
    "\n",
    "Then you will analyze the models and decide which is the most appropriate for your state.\n",
    "\n",
    "First you will generate two features (to include with a set I have already created for you).\n",
    "\n",
    "Then, for each outcome, you will run a decision tree model and a random forest model. You will choose the best model from these two (RF and decision trees) to then predict for the holdout. \n",
    "\n",
    "Then you will evaluate each model + intervention.\n",
    "\n",
    "Finally you will tell me which model you pick for your state."
   ]
  },
  {
   "cell_type": "markdown",
   "id": "516a1649",
   "metadata": {
    "ExecuteTime": {
     "end_time": "2022-12-07T20:50:08.415757Z",
     "start_time": "2022-12-07T20:50:08.411734Z"
    },
    "deletable": false,
    "editable": false,
    "run_control": {
     "frozen": true
    }
   },
   "source": [
    "# Thresholds and treatment effects (1 point)\n",
    "Create the following four variables:\n",
    " - `threshold__any`: This should be set to the number of slots available in the online therapy intervention  \n",
    " - `threshold__felony`: This should be set to the number of slots available in the detention intervention\n",
    " - `treatment_effect__online_therapy`: This should be set to the treatment effect of the online therapy intervention \n",
    " - `treatment_effect__detention`: This should be set to the treatment effect of the detention intervention\n",
    " "
   ]
  },
  {
   "cell_type": "code",
   "execution_count": 2,
   "id": "900bae2f",
   "metadata": {
    "ExecuteTime": {
     "end_time": "2022-12-08T02:24:27.848368Z",
     "start_time": "2022-12-08T02:24:27.833808Z"
    }
   },
   "outputs": [],
   "source": [
    "threshold__any = 500\n",
    "threshold__felony = 100\n",
    "treatment_effect__online_therapy = .2\n",
    "treatment_effect__detention = .7"
   ]
  },
  {
   "cell_type": "markdown",
   "id": "5f61781e",
   "metadata": {
    "deletable": false,
    "editable": false,
    "run_control": {
     "frozen": true
    }
   },
   "source": [
    "# Load Data"
   ]
  },
  {
   "cell_type": "code",
   "execution_count": 3,
   "id": "81ad380b",
   "metadata": {
    "ExecuteTime": {
     "end_time": "2022-12-08T02:24:28.713816Z",
     "start_time": "2022-12-08T02:24:28.488448Z"
    }
   },
   "outputs": [
    {
     "data": {
      "text/html": [
       "<div>\n",
       "<style scoped>\n",
       "    .dataframe tbody tr th:only-of-type {\n",
       "        vertical-align: middle;\n",
       "    }\n",
       "\n",
       "    .dataframe tbody tr th {\n",
       "        vertical-align: top;\n",
       "    }\n",
       "\n",
       "    .dataframe thead th {\n",
       "        text-align: right;\n",
       "    }\n",
       "</style>\n",
       "<table border=\"1\" class=\"dataframe\">\n",
       "  <thead>\n",
       "    <tr style=\"text-align: right;\">\n",
       "      <th></th>\n",
       "      <th>ArresteeID</th>\n",
       "      <th>arrests__age</th>\n",
       "      <th>arrests__total_2016</th>\n",
       "      <th>arrests__total_2017</th>\n",
       "      <th>arrests__total_2018</th>\n",
       "      <th>group</th>\n",
       "      <th>outcome__any</th>\n",
       "      <th>outcome__felony</th>\n",
       "      <th>outcome__nonfelony</th>\n",
       "    </tr>\n",
       "  </thead>\n",
       "  <tbody>\n",
       "    <tr>\n",
       "      <th>0</th>\n",
       "      <td>100684624.0</td>\n",
       "      <td>25.0</td>\n",
       "      <td>0.0</td>\n",
       "      <td>0.0</td>\n",
       "      <td>1.0</td>\n",
       "      <td>1.0</td>\n",
       "      <td>0</td>\n",
       "      <td>0</td>\n",
       "      <td>0</td>\n",
       "    </tr>\n",
       "    <tr>\n",
       "      <th>1</th>\n",
       "      <td>101611646.0</td>\n",
       "      <td>33.0</td>\n",
       "      <td>0.0</td>\n",
       "      <td>0.0</td>\n",
       "      <td>1.0</td>\n",
       "      <td>1.0</td>\n",
       "      <td>0</td>\n",
       "      <td>0</td>\n",
       "      <td>0</td>\n",
       "    </tr>\n",
       "    <tr>\n",
       "      <th>2</th>\n",
       "      <td>101790068.0</td>\n",
       "      <td>20.0</td>\n",
       "      <td>0.0</td>\n",
       "      <td>0.0</td>\n",
       "      <td>1.0</td>\n",
       "      <td>1.0</td>\n",
       "      <td>0</td>\n",
       "      <td>0</td>\n",
       "      <td>0</td>\n",
       "    </tr>\n",
       "    <tr>\n",
       "      <th>3</th>\n",
       "      <td>101696448.0</td>\n",
       "      <td>24.0</td>\n",
       "      <td>0.0</td>\n",
       "      <td>0.0</td>\n",
       "      <td>1.0</td>\n",
       "      <td>1.0</td>\n",
       "      <td>0</td>\n",
       "      <td>0</td>\n",
       "      <td>0</td>\n",
       "    </tr>\n",
       "    <tr>\n",
       "      <th>4</th>\n",
       "      <td>10179010.0</td>\n",
       "      <td>27.0</td>\n",
       "      <td>0.0</td>\n",
       "      <td>1.0</td>\n",
       "      <td>1.0</td>\n",
       "      <td>0.0</td>\n",
       "      <td>0</td>\n",
       "      <td>0</td>\n",
       "      <td>0</td>\n",
       "    </tr>\n",
       "  </tbody>\n",
       "</table>\n",
       "</div>"
      ],
      "text/plain": [
       "    ArresteeID  arrests__age  arrests__total_2016  arrests__total_2017  \\\n",
       "0  100684624.0          25.0                  0.0                  0.0   \n",
       "1  101611646.0          33.0                  0.0                  0.0   \n",
       "2  101790068.0          20.0                  0.0                  0.0   \n",
       "3  101696448.0          24.0                  0.0                  0.0   \n",
       "4   10179010.0          27.0                  0.0                  1.0   \n",
       "\n",
       "   arrests__total_2018  group  outcome__any  outcome__felony  \\\n",
       "0                  1.0    1.0             0                0   \n",
       "1                  1.0    1.0             0                0   \n",
       "2                  1.0    1.0             0                0   \n",
       "3                  1.0    1.0             0                0   \n",
       "4                  1.0    0.0             0                0   \n",
       "\n",
       "   outcome__nonfelony  \n",
       "0                   0  \n",
       "1                   0  \n",
       "2                   0  \n",
       "3                   0  \n",
       "4                   0  "
      ]
     },
     "execution_count": 3,
     "metadata": {},
     "output_type": "execute_result"
    },
    {
     "data": {
      "text/html": [
       "<div>\n",
       "<style scoped>\n",
       "    .dataframe tbody tr th:only-of-type {\n",
       "        vertical-align: middle;\n",
       "    }\n",
       "\n",
       "    .dataframe tbody tr th {\n",
       "        vertical-align: top;\n",
       "    }\n",
       "\n",
       "    .dataframe thead th {\n",
       "        text-align: right;\n",
       "    }\n",
       "</style>\n",
       "<table border=\"1\" class=\"dataframe\">\n",
       "  <thead>\n",
       "    <tr style=\"text-align: right;\">\n",
       "      <th></th>\n",
       "      <th>ArresteeID</th>\n",
       "      <th>arrests__arrest_year</th>\n",
       "      <th>ArrestNumber</th>\n",
       "      <th>arrests__weapon</th>\n",
       "    </tr>\n",
       "  </thead>\n",
       "  <tbody>\n",
       "    <tr>\n",
       "      <th>0</th>\n",
       "      <td>102493798.0</td>\n",
       "      <td>2020</td>\n",
       "      <td>20-034161</td>\n",
       "      <td>Unarmed</td>\n",
       "    </tr>\n",
       "    <tr>\n",
       "      <th>1</th>\n",
       "      <td>101681693.0</td>\n",
       "      <td>2020</td>\n",
       "      <td>20-034161</td>\n",
       "      <td>Unarmed</td>\n",
       "    </tr>\n",
       "    <tr>\n",
       "      <th>2</th>\n",
       "      <td>102493798.0</td>\n",
       "      <td>2018</td>\n",
       "      <td>18-022775</td>\n",
       "      <td>Unarmed</td>\n",
       "    </tr>\n",
       "    <tr>\n",
       "      <th>3</th>\n",
       "      <td>101681693.0</td>\n",
       "      <td>2018</td>\n",
       "      <td>18-022775</td>\n",
       "      <td>Unarmed</td>\n",
       "    </tr>\n",
       "    <tr>\n",
       "      <th>4</th>\n",
       "      <td>102012407.0</td>\n",
       "      <td>2019</td>\n",
       "      <td>19-033083</td>\n",
       "      <td>Unarmed</td>\n",
       "    </tr>\n",
       "  </tbody>\n",
       "</table>\n",
       "</div>"
      ],
      "text/plain": [
       "    ArresteeID  arrests__arrest_year ArrestNumber arrests__weapon\n",
       "0  102493798.0                  2020    20-034161         Unarmed\n",
       "1  101681693.0                  2020    20-034161         Unarmed\n",
       "2  102493798.0                  2018    18-022775         Unarmed\n",
       "3  101681693.0                  2018    18-022775         Unarmed\n",
       "4  102012407.0                  2019    19-033083         Unarmed"
      ]
     },
     "execution_count": 3,
     "metadata": {},
     "output_type": "execute_result"
    },
    {
     "data": {
      "text/html": [
       "<div>\n",
       "<style scoped>\n",
       "    .dataframe tbody tr th:only-of-type {\n",
       "        vertical-align: middle;\n",
       "    }\n",
       "\n",
       "    .dataframe tbody tr th {\n",
       "        vertical-align: top;\n",
       "    }\n",
       "\n",
       "    .dataframe thead th {\n",
       "        text-align: right;\n",
       "    }\n",
       "</style>\n",
       "<table border=\"1\" class=\"dataframe\">\n",
       "  <thead>\n",
       "    <tr style=\"text-align: right;\">\n",
       "      <th></th>\n",
       "      <th>ArrestNumber</th>\n",
       "      <th>ArChgNumID</th>\n",
       "      <th>Severity</th>\n",
       "      <th>NIBRS_Group</th>\n",
       "      <th>NIBRS_Crime_Category</th>\n",
       "    </tr>\n",
       "  </thead>\n",
       "  <tbody>\n",
       "    <tr>\n",
       "      <th>0</th>\n",
       "      <td>18-031534</td>\n",
       "      <td>18-031534-01</td>\n",
       "      <td>M</td>\n",
       "      <td>B</td>\n",
       "      <td>DRIVING UNDER THE INFLUENCE</td>\n",
       "    </tr>\n",
       "    <tr>\n",
       "      <th>1</th>\n",
       "      <td>18-043911</td>\n",
       "      <td>18-043911-01</td>\n",
       "      <td>M</td>\n",
       "      <td>B</td>\n",
       "      <td>TRESPASS OF REAL PROPERTY</td>\n",
       "    </tr>\n",
       "    <tr>\n",
       "      <th>2</th>\n",
       "      <td>18-024199</td>\n",
       "      <td>18-024199-01</td>\n",
       "      <td>M</td>\n",
       "      <td>B</td>\n",
       "      <td>PUBLIC INTOXICATION</td>\n",
       "    </tr>\n",
       "    <tr>\n",
       "      <th>3</th>\n",
       "      <td>18-034153</td>\n",
       "      <td>18-034153-01</td>\n",
       "      <td>M</td>\n",
       "      <td>B</td>\n",
       "      <td>PUBLIC INTOXICATION</td>\n",
       "    </tr>\n",
       "    <tr>\n",
       "      <th>4</th>\n",
       "      <td>18-036191</td>\n",
       "      <td>18-036191-02</td>\n",
       "      <td>M</td>\n",
       "      <td>B</td>\n",
       "      <td>PUBLIC INTOXICATION</td>\n",
       "    </tr>\n",
       "  </tbody>\n",
       "</table>\n",
       "</div>"
      ],
      "text/plain": [
       "  ArrestNumber    ArChgNumID Severity NIBRS_Group         NIBRS_Crime_Category\n",
       "0    18-031534  18-031534-01        M           B  DRIVING UNDER THE INFLUENCE\n",
       "1    18-043911  18-043911-01        M           B    TRESPASS OF REAL PROPERTY\n",
       "2    18-024199  18-024199-01        M           B          PUBLIC INTOXICATION\n",
       "3    18-034153  18-034153-01        M           B          PUBLIC INTOXICATION\n",
       "4    18-036191  18-036191-02        M           B          PUBLIC INTOXICATION"
      ]
     },
     "execution_count": 3,
     "metadata": {},
     "output_type": "execute_result"
    }
   ],
   "source": [
    "prediction_universe = pd.read_csv('https://zjelveh.github.io/files/prediction_universe_INST414.csv')\n",
    "arrests = pd.read_csv('https://zjelveh.github.io/files/arrests_INST414.csv')\n",
    "charges = pd.read_csv('https://zjelveh.github.io/files/charges_INST414.csv')\n",
    "prediction_universe.head()\n",
    "\n",
    "arrests.head()\n",
    "\n",
    "charges.head()"
   ]
  },
  {
   "cell_type": "markdown",
   "id": "046c7421",
   "metadata": {
    "deletable": false,
    "editable": false,
    "run_control": {
     "frozen": true
    }
   },
   "source": [
    "## Column definitions:\n",
    "  - **prediction_universe**:\n",
    "      - `ArresteeID` - unique ID for an arrestee\n",
    "      - `arrests__age` - age of arrestee in 2018\n",
    "      - `arrests__total_YYYY` - number of arrests by year YYYY (2016 to 2018)\n",
    "      - `group` - an indicator of which group an arrestee belongs to (either 0 or 1). This variable is sensitive (akin to race/sex/gender/ethnicity/age/etc)\n",
    "      - `outcome__any` - is equal to one if a person arrested in 2018 was re-arrested for any offense in 2019, 2020, or 2021\n",
    "      - `outcome__felony`- is equal to one if a person arrested in 2018 was re-arrested for a felony offense in 2019, 2020, or 2021\n",
    "  - **arrests**:\n",
    "      - `ArresteeID` - unique ID for an arrestee\n",
    "      - `arrests__arrest_year` - year of arrest\n",
    "      - `ArrestNumber` - unique ID for an arrest\n",
    "      - `arrests__weapon` - type of weapon associated with arrest\n",
    "  - **charges**:\n",
    "      - `ArrestNumber` - unique ID for an arrest\n",
    "      - `ArChgNumID` - unique ID for an arrest charge\n",
    "      - `Severity` - whether the charge was a felony or not\n",
    "      - `NIBRS_Group` - NIBRS charge categorization I (A- Most severe, B, C-Least Severe)\n",
    "      - `NIBRS_Crime_Category` - NIBRS charge categorization II (e.g. Public intoxication, DUI, Assault)\n",
    "\n",
    "**NOTE**: NIBRS stands for [National Incident-Based Reporting System](https://bjs.ojp.gov/national-incident-based-reporting-system-nibrs), and is used by law-enforcement agencies across the country to report data to the federal government. \n",
    "      "
   ]
  },
  {
   "cell_type": "markdown",
   "id": "76d067ce",
   "metadata": {
    "deletable": false,
    "editable": false,
    "run_control": {
     "frozen": true
    }
   },
   "source": [
    " # Generate more features\n",
    " ## First feature (2 points)\n",
    "Create a predictor called `charges__num_B__last_two_years` that counts the total number of arrests in 2017 and 2018 per `ArresteeID` where there was at least one charge that was NIBRS Group B. (You will only be adding one column). (1.5 points)\n",
    "\n",
    "Merge this feature in with `prediction_universe`. Fill any null values with zero. Make sure that the number of rows in `prediction_universe` does not change. (0.5 points)\n",
    " \n",
    " "
   ]
  },
  {
   "cell_type": "code",
   "execution_count": 4,
   "id": "57ff3e60",
   "metadata": {
    "ExecuteTime": {
     "end_time": "2022-12-08T02:24:29.596400Z",
     "start_time": "2022-12-08T02:24:29.556166Z"
    }
   },
   "outputs": [],
   "source": [
    "# Filter arrests for 2017-2018 and merge with charges\n",
    "recent_arrests = arrests[arrests['arrests__arrest_year'].isin([2017, 2018])]\n",
    "arrests_charges = recent_arrests.merge(charges, on='ArrestNumber')\n",
    "\n",
    "# Count arrests with NIBRS Group B charges per ArresteeID\n",
    "charges__num_B__last_two_years = (\n",
    "    arrests_charges[arrests_charges['NIBRS_Group'] == 'B']\n",
    "    .groupby('ArresteeID')\n",
    "    .size()\n",
    "    .reset_index(name='charges__num_B__last_two_years')\n",
    ")"
   ]
  },
  {
   "cell_type": "code",
   "execution_count": 5,
   "id": "7727bf28",
   "metadata": {
    "ExecuteTime": {
     "end_time": "2022-12-08T02:24:29.940813Z",
     "start_time": "2022-12-08T02:24:29.884929Z"
    }
   },
   "outputs": [],
   "source": [
    "# Merge with prediction_universe and fill nulls with 0\n",
    "prediction_universe = prediction_universe.merge(\n",
    "    charges__num_B__last_two_years,\n",
    "    on='ArresteeID',\n",
    "    how='left'\n",
    ")\n",
    "prediction_universe['charges__num_B__last_two_years'] = prediction_universe['charges__num_B__last_two_years'].fillna(0)"
   ]
  },
  {
   "cell_type": "markdown",
   "id": "5bea6eb9",
   "metadata": {
    "deletable": false,
    "editable": false,
    "run_control": {
     "frozen": true
    }
   },
   "source": [
    "## Second feature (2 points)\n",
    "Create a predictor called `arrests__weapon_used` that counts the number of arrests in 2016, 2017, and 2018 where the arrest weapon was NOT \"Unarmed\" or \"None\". (You will only be adding one column). (1.5 points)\n",
    "\n",
    "Merge this feature in with `prediction_universe`. Fill any null values with zero. Make sure that the number of rows in `prediction_universe` does not change. (0.5 points)"
   ]
  },
  {
   "cell_type": "code",
   "execution_count": 6,
   "id": "23eb1857",
   "metadata": {
    "ExecuteTime": {
     "end_time": "2022-12-08T02:24:30.867552Z",
     "start_time": "2022-12-08T02:24:30.826755Z"
    }
   },
   "outputs": [],
   "source": [
    "# Filter arrests where weapon was not \"Unarmed\" or \"None\"\n",
    "weapon_arrests = (\n",
    "    arrests[\n",
    "        (~arrests['arrests__weapon'].isin(['Unarmed', 'None'])) &\n",
    "        (arrests['arrests__arrest_year'].isin([2016, 2017, 2018]))\n",
    "    ]\n",
    "    .groupby('ArresteeID')\n",
    "    .size()\n",
    "    .reset_index(name='arrests__weapon_used')\n",
    ")"
   ]
  },
  {
   "cell_type": "code",
   "execution_count": 7,
   "id": "1f773133-e7d5-4f7b-9f89-8e93b3fdaea7",
   "metadata": {},
   "outputs": [
    {
     "name": "stdout",
     "output_type": "stream",
     "text": [
      "Number of rows in prediction_universe: 7763\n"
     ]
    }
   ],
   "source": [
    "# Merge with prediction_universe and fill nulls with 0\n",
    "prediction_universe = prediction_universe.merge(\n",
    "    weapon_arrests,\n",
    "    on='ArresteeID',\n",
    "    how='left'\n",
    ")\n",
    "prediction_universe['arrests__weapon_used'] = prediction_universe['arrests__weapon_used'].fillna(0)\n",
    "\n",
    "# Make sure row count hasn't changed\n",
    "print(\"Number of rows in prediction_universe:\", len(prediction_universe))"
   ]
  },
  {
   "cell_type": "markdown",
   "id": "a12d2c2b",
   "metadata": {
    "ExecuteTime": {
     "end_time": "2022-12-07T20:34:24.457692Z",
     "start_time": "2022-12-07T20:34:22.263044Z"
    },
    "deletable": false,
    "editable": false,
    "run_control": {
     "frozen": true
    }
   },
   "source": [
    "# Prepare data \n",
    "## Part I (0.5 points)\n",
    "Following the diagram below, create the following variables:\n",
    "\n",
    "`final_model` - which will hold two-thirds of the original data\n",
    "\n",
    "`holdout` - which will hold one-third of the original data\n",
    "\n",
    "`train` - which will hold 1/2 of the `final_model` data \n",
    "\n",
    "`validation` - which will hold the other 1/2 of the `final_model` data \n",
    "\n",
    "<img width=450 height=350 src='https://zjelveh.github.io/files/data_split.png'>\n",
    "\n",
    "\n",
    "\n"
   ]
  },
  {
   "cell_type": "code",
   "execution_count": 8,
   "id": "6a8a195b",
   "metadata": {
    "ExecuteTime": {
     "end_time": "2022-12-08T02:24:32.211184Z",
     "start_time": "2022-12-08T02:24:32.179054Z"
    }
   },
   "outputs": [
    {
     "name": "stdout",
     "output_type": "stream",
     "text": [
      "Original data size: 7763\n",
      "Final model size: 5175 (66.7%)\n",
      "Holdout size: 2588 (33.3%)\n",
      "Train size: 2587 (50.0%)\n",
      "Validation size: 2588 (50.0%)\n"
     ]
    }
   ],
   "source": [
    "# First split: Create final_model and holdout\n",
    "final_model, holdout = train_test_split(\n",
    "    prediction_universe,\n",
    "    test_size=1/3,\n",
    "    random_state=42\n",
    ")\n",
    "\n",
    "# Second split: Split final_model into train and validation\n",
    "train, validation = train_test_split(\n",
    "    final_model,\n",
    "    test_size=0.5,\n",
    "    random_state=42\n",
    ")\n",
    "\n",
    "# Making sure the splits are correct\n",
    "print(\"Original data size:\", len(prediction_universe))\n",
    "print(\"Final model size:\", len(final_model), f\"({len(final_model)/len(prediction_universe):.1%})\")\n",
    "print(\"Holdout size:\", len(holdout), f\"({len(holdout)/len(prediction_universe):.1%})\")\n",
    "print(\"Train size:\", len(train), f\"({len(train)/len(final_model):.1%})\")\n",
    "print(\"Validation size:\", len(validation), f\"({len(validation)/len(final_model):.1%})\")"
   ]
  },
  {
   "cell_type": "markdown",
   "id": "7ef6be28",
   "metadata": {
    "ExecuteTime": {
     "end_time": "2022-11-29T21:14:22.766420Z",
     "start_time": "2022-11-29T21:14:21.431162Z"
    },
    "deletable": false,
    "editable": false,
    "run_control": {
     "frozen": true
    }
   },
   "source": [
    "## Part 2 (0.5 points)\n",
    "Create the following Data Frames and Series:\n",
    "\n",
    "**Predictor DataFrames**\n",
    " - `X__final_model` - this will hold the predictors from `final_model`\n",
    "\n",
    " - `X__holdout` - this will hold the predictors from `holdout`\n",
    "\n",
    " - `X__train` - this will hold the predictors from `train`\n",
    "\n",
    " - `X__validation` - this will hold predictors from `validation`\n",
    "\n",
    "**Outcome Series**\n",
    "\n",
    " - `y__any__final_model` - this will hold `outcome__any_rearrest` from `final_model` \n",
    "\n",
    " - `y__felony__final_model` - this will hold `outcome__felony_rearrest` from `final_model` \n",
    "\n",
    " - `y__any__train` - this will hold `outcome__any_rearrest` from `train` \n",
    "\n",
    " - `y__felony__train` - this will hold `outcome__felony_rearrest` from `train` \n",
    "\n",
    "\n",
    "Use the following predictors:\n",
    "- arrests__age\n",
    "- arrests__total_2016\n",
    "- arrests__total_2017\n",
    "- arrests__total_2018\n",
    "- charges__num_B__last_two_years\n",
    "- arrests__weapon_used"
   ]
  },
  {
   "cell_type": "code",
   "execution_count": 9,
   "id": "bb8c3e10",
   "metadata": {
    "ExecuteTime": {
     "end_time": "2022-12-08T02:24:33.691536Z",
     "start_time": "2022-12-08T02:24:33.659513Z"
    }
   },
   "outputs": [
    {
     "name": "stdout",
     "output_type": "stream",
     "text": [
      "Predictor DataFrames shapes:\n",
      "X__final_model: (5175, 6)\n",
      "X__holdout: (2588, 6)\n",
      "X__train: (2587, 6)\n",
      "X__validation: (2588, 6)\n",
      "\n",
      "Outcome Series lengths:\n",
      "y__any__final_model: 5175\n",
      "y__felony__final_model: 5175\n",
      "y__any__train: 2587\n",
      "y__felony__train: 2587\n"
     ]
    }
   ],
   "source": [
    "# This list will be helpful in creating the four predictor DataFrames\n",
    "features = ['arrests__age', 'arrests__total_2016', 'arrests__total_2017', \n",
    "            'arrests__total_2018', 'charges__num_B__last_two_years',\n",
    "            'arrests__weapon_used']\n",
    "\n",
    "# Create predictor DataFrames\n",
    "X__final_model = final_model[features]\n",
    "X__holdout = holdout[features]\n",
    "X__train = train[features]\n",
    "X__validation = validation[features]\n",
    "\n",
    "# Create outcome Series for any re-arrest\n",
    "y__any__final_model = final_model['outcome__any']\n",
    "y__any__train = train['outcome__any']\n",
    "\n",
    "# Create outcome Series for felony re-arrest\n",
    "y__felony__final_model = final_model['outcome__felony']\n",
    "y__felony__train = train['outcome__felony']\n",
    "\n",
    "# Verify shapes of our DataFrames and Series\n",
    "print(\"Predictor DataFrames shapes:\")\n",
    "print(\"X__final_model:\", X__final_model.shape)\n",
    "print(\"X__holdout:\", X__holdout.shape)\n",
    "print(\"X__train:\", X__train.shape)\n",
    "print(\"X__validation:\", X__validation.shape)\n",
    "\n",
    "print(\"\\nOutcome Series lengths:\")\n",
    "print(\"y__any__final_model:\", len(y__any__final_model))\n",
    "print(\"y__felony__final_model:\", len(y__felony__final_model))\n",
    "print(\"y__any__train:\", len(y__any__train))\n",
    "print(\"y__felony__train:\", len(y__felony__train))"
   ]
  },
  {
   "cell_type": "markdown",
   "id": "f256ee28-0038-4974-8618-076c67e6b9e3",
   "metadata": {},
   "source": [
    "# Predict Any Rearrest\n",
    "We will compare the performance of two models:\n",
    "- A decision tree \n",
    "- A random forest model \n",
    "\n",
    "Use GridSearchCV to estimate both models. Tune over the max_depth hyperparameter. For both the decision tree and random forest, test depths of 2, 4, 6, and 8."
   ]
  },
  {
   "cell_type": "code",
   "execution_count": 10,
   "id": "1ca47cd8",
   "metadata": {
    "ExecuteTime": {
     "end_time": "2022-12-08T02:24:35.121328Z",
     "start_time": "2022-12-08T02:24:35.106111Z"
    }
   },
   "outputs": [
    {
     "data": {
      "text/html": [
       "<style>#sk-container-id-1 {color: black;background-color: white;}#sk-container-id-1 pre{padding: 0;}#sk-container-id-1 div.sk-toggleable {background-color: white;}#sk-container-id-1 label.sk-toggleable__label {cursor: pointer;display: block;width: 100%;margin-bottom: 0;padding: 0.3em;box-sizing: border-box;text-align: center;}#sk-container-id-1 label.sk-toggleable__label-arrow:before {content: \"▸\";float: left;margin-right: 0.25em;color: #696969;}#sk-container-id-1 label.sk-toggleable__label-arrow:hover:before {color: black;}#sk-container-id-1 div.sk-estimator:hover label.sk-toggleable__label-arrow:before {color: black;}#sk-container-id-1 div.sk-toggleable__content {max-height: 0;max-width: 0;overflow: hidden;text-align: left;background-color: #f0f8ff;}#sk-container-id-1 div.sk-toggleable__content pre {margin: 0.2em;color: black;border-radius: 0.25em;background-color: #f0f8ff;}#sk-container-id-1 input.sk-toggleable__control:checked~div.sk-toggleable__content {max-height: 200px;max-width: 100%;overflow: auto;}#sk-container-id-1 input.sk-toggleable__control:checked~label.sk-toggleable__label-arrow:before {content: \"▾\";}#sk-container-id-1 div.sk-estimator input.sk-toggleable__control:checked~label.sk-toggleable__label {background-color: #d4ebff;}#sk-container-id-1 div.sk-label input.sk-toggleable__control:checked~label.sk-toggleable__label {background-color: #d4ebff;}#sk-container-id-1 input.sk-hidden--visually {border: 0;clip: rect(1px 1px 1px 1px);clip: rect(1px, 1px, 1px, 1px);height: 1px;margin: -1px;overflow: hidden;padding: 0;position: absolute;width: 1px;}#sk-container-id-1 div.sk-estimator {font-family: monospace;background-color: #f0f8ff;border: 1px dotted black;border-radius: 0.25em;box-sizing: border-box;margin-bottom: 0.5em;}#sk-container-id-1 div.sk-estimator:hover {background-color: #d4ebff;}#sk-container-id-1 div.sk-parallel-item::after {content: \"\";width: 100%;border-bottom: 1px solid gray;flex-grow: 1;}#sk-container-id-1 div.sk-label:hover label.sk-toggleable__label {background-color: #d4ebff;}#sk-container-id-1 div.sk-serial::before {content: \"\";position: absolute;border-left: 1px solid gray;box-sizing: border-box;top: 0;bottom: 0;left: 50%;z-index: 0;}#sk-container-id-1 div.sk-serial {display: flex;flex-direction: column;align-items: center;background-color: white;padding-right: 0.2em;padding-left: 0.2em;position: relative;}#sk-container-id-1 div.sk-item {position: relative;z-index: 1;}#sk-container-id-1 div.sk-parallel {display: flex;align-items: stretch;justify-content: center;background-color: white;position: relative;}#sk-container-id-1 div.sk-item::before, #sk-container-id-1 div.sk-parallel-item::before {content: \"\";position: absolute;border-left: 1px solid gray;box-sizing: border-box;top: 0;bottom: 0;left: 50%;z-index: -1;}#sk-container-id-1 div.sk-parallel-item {display: flex;flex-direction: column;z-index: 1;position: relative;background-color: white;}#sk-container-id-1 div.sk-parallel-item:first-child::after {align-self: flex-end;width: 50%;}#sk-container-id-1 div.sk-parallel-item:last-child::after {align-self: flex-start;width: 50%;}#sk-container-id-1 div.sk-parallel-item:only-child::after {width: 0;}#sk-container-id-1 div.sk-dashed-wrapped {border: 1px dashed gray;margin: 0 0.4em 0.5em 0.4em;box-sizing: border-box;padding-bottom: 0.4em;background-color: white;}#sk-container-id-1 div.sk-label label {font-family: monospace;font-weight: bold;display: inline-block;line-height: 1.2em;}#sk-container-id-1 div.sk-label-container {text-align: center;}#sk-container-id-1 div.sk-container {/* jupyter's `normalize.less` sets `[hidden] { display: none; }` but bootstrap.min.css set `[hidden] { display: none !important; }` so we also need the `!important` here to be able to override the default hidden behavior on the sphinx rendered scikit-learn.org. See: https://github.com/scikit-learn/scikit-learn/issues/21755 */display: inline-block !important;position: relative;}#sk-container-id-1 div.sk-text-repr-fallback {display: none;}</style><div id=\"sk-container-id-1\" class=\"sk-top-container\"><div class=\"sk-text-repr-fallback\"><pre>GridSearchCV(cv=5, estimator=DecisionTreeClassifier(),\n",
       "             param_grid={&#x27;max_depth&#x27;: [2, 4, 6, 8]}, scoring=&#x27;roc_auc&#x27;)</pre><b>In a Jupyter environment, please rerun this cell to show the HTML representation or trust the notebook. <br />On GitHub, the HTML representation is unable to render, please try loading this page with nbviewer.org.</b></div><div class=\"sk-container\" hidden><div class=\"sk-item sk-dashed-wrapped\"><div class=\"sk-label-container\"><div class=\"sk-label sk-toggleable\"><input class=\"sk-toggleable__control sk-hidden--visually\" id=\"sk-estimator-id-1\" type=\"checkbox\" ><label for=\"sk-estimator-id-1\" class=\"sk-toggleable__label sk-toggleable__label-arrow\">GridSearchCV</label><div class=\"sk-toggleable__content\"><pre>GridSearchCV(cv=5, estimator=DecisionTreeClassifier(),\n",
       "             param_grid={&#x27;max_depth&#x27;: [2, 4, 6, 8]}, scoring=&#x27;roc_auc&#x27;)</pre></div></div></div><div class=\"sk-parallel\"><div class=\"sk-parallel-item\"><div class=\"sk-item\"><div class=\"sk-label-container\"><div class=\"sk-label sk-toggleable\"><input class=\"sk-toggleable__control sk-hidden--visually\" id=\"sk-estimator-id-2\" type=\"checkbox\" ><label for=\"sk-estimator-id-2\" class=\"sk-toggleable__label sk-toggleable__label-arrow\">estimator: DecisionTreeClassifier</label><div class=\"sk-toggleable__content\"><pre>DecisionTreeClassifier()</pre></div></div></div><div class=\"sk-serial\"><div class=\"sk-item\"><div class=\"sk-estimator sk-toggleable\"><input class=\"sk-toggleable__control sk-hidden--visually\" id=\"sk-estimator-id-3\" type=\"checkbox\" ><label for=\"sk-estimator-id-3\" class=\"sk-toggleable__label sk-toggleable__label-arrow\">DecisionTreeClassifier</label><div class=\"sk-toggleable__content\"><pre>DecisionTreeClassifier()</pre></div></div></div></div></div></div></div></div></div></div>"
      ],
      "text/plain": [
       "GridSearchCV(cv=5, estimator=DecisionTreeClassifier(),\n",
       "             param_grid={'max_depth': [2, 4, 6, 8]}, scoring='roc_auc')"
      ]
     },
     "execution_count": 10,
     "metadata": {},
     "output_type": "execute_result"
    },
    {
     "data": {
      "text/html": [
       "<style>#sk-container-id-2 {color: black;background-color: white;}#sk-container-id-2 pre{padding: 0;}#sk-container-id-2 div.sk-toggleable {background-color: white;}#sk-container-id-2 label.sk-toggleable__label {cursor: pointer;display: block;width: 100%;margin-bottom: 0;padding: 0.3em;box-sizing: border-box;text-align: center;}#sk-container-id-2 label.sk-toggleable__label-arrow:before {content: \"▸\";float: left;margin-right: 0.25em;color: #696969;}#sk-container-id-2 label.sk-toggleable__label-arrow:hover:before {color: black;}#sk-container-id-2 div.sk-estimator:hover label.sk-toggleable__label-arrow:before {color: black;}#sk-container-id-2 div.sk-toggleable__content {max-height: 0;max-width: 0;overflow: hidden;text-align: left;background-color: #f0f8ff;}#sk-container-id-2 div.sk-toggleable__content pre {margin: 0.2em;color: black;border-radius: 0.25em;background-color: #f0f8ff;}#sk-container-id-2 input.sk-toggleable__control:checked~div.sk-toggleable__content {max-height: 200px;max-width: 100%;overflow: auto;}#sk-container-id-2 input.sk-toggleable__control:checked~label.sk-toggleable__label-arrow:before {content: \"▾\";}#sk-container-id-2 div.sk-estimator input.sk-toggleable__control:checked~label.sk-toggleable__label {background-color: #d4ebff;}#sk-container-id-2 div.sk-label input.sk-toggleable__control:checked~label.sk-toggleable__label {background-color: #d4ebff;}#sk-container-id-2 input.sk-hidden--visually {border: 0;clip: rect(1px 1px 1px 1px);clip: rect(1px, 1px, 1px, 1px);height: 1px;margin: -1px;overflow: hidden;padding: 0;position: absolute;width: 1px;}#sk-container-id-2 div.sk-estimator {font-family: monospace;background-color: #f0f8ff;border: 1px dotted black;border-radius: 0.25em;box-sizing: border-box;margin-bottom: 0.5em;}#sk-container-id-2 div.sk-estimator:hover {background-color: #d4ebff;}#sk-container-id-2 div.sk-parallel-item::after {content: \"\";width: 100%;border-bottom: 1px solid gray;flex-grow: 1;}#sk-container-id-2 div.sk-label:hover label.sk-toggleable__label {background-color: #d4ebff;}#sk-container-id-2 div.sk-serial::before {content: \"\";position: absolute;border-left: 1px solid gray;box-sizing: border-box;top: 0;bottom: 0;left: 50%;z-index: 0;}#sk-container-id-2 div.sk-serial {display: flex;flex-direction: column;align-items: center;background-color: white;padding-right: 0.2em;padding-left: 0.2em;position: relative;}#sk-container-id-2 div.sk-item {position: relative;z-index: 1;}#sk-container-id-2 div.sk-parallel {display: flex;align-items: stretch;justify-content: center;background-color: white;position: relative;}#sk-container-id-2 div.sk-item::before, #sk-container-id-2 div.sk-parallel-item::before {content: \"\";position: absolute;border-left: 1px solid gray;box-sizing: border-box;top: 0;bottom: 0;left: 50%;z-index: -1;}#sk-container-id-2 div.sk-parallel-item {display: flex;flex-direction: column;z-index: 1;position: relative;background-color: white;}#sk-container-id-2 div.sk-parallel-item:first-child::after {align-self: flex-end;width: 50%;}#sk-container-id-2 div.sk-parallel-item:last-child::after {align-self: flex-start;width: 50%;}#sk-container-id-2 div.sk-parallel-item:only-child::after {width: 0;}#sk-container-id-2 div.sk-dashed-wrapped {border: 1px dashed gray;margin: 0 0.4em 0.5em 0.4em;box-sizing: border-box;padding-bottom: 0.4em;background-color: white;}#sk-container-id-2 div.sk-label label {font-family: monospace;font-weight: bold;display: inline-block;line-height: 1.2em;}#sk-container-id-2 div.sk-label-container {text-align: center;}#sk-container-id-2 div.sk-container {/* jupyter's `normalize.less` sets `[hidden] { display: none; }` but bootstrap.min.css set `[hidden] { display: none !important; }` so we also need the `!important` here to be able to override the default hidden behavior on the sphinx rendered scikit-learn.org. See: https://github.com/scikit-learn/scikit-learn/issues/21755 */display: inline-block !important;position: relative;}#sk-container-id-2 div.sk-text-repr-fallback {display: none;}</style><div id=\"sk-container-id-2\" class=\"sk-top-container\"><div class=\"sk-text-repr-fallback\"><pre>GridSearchCV(cv=5, estimator=RandomForestClassifier(),\n",
       "             param_grid={&#x27;max_depth&#x27;: [2, 4, 6, 8]}, scoring=&#x27;roc_auc&#x27;)</pre><b>In a Jupyter environment, please rerun this cell to show the HTML representation or trust the notebook. <br />On GitHub, the HTML representation is unable to render, please try loading this page with nbviewer.org.</b></div><div class=\"sk-container\" hidden><div class=\"sk-item sk-dashed-wrapped\"><div class=\"sk-label-container\"><div class=\"sk-label sk-toggleable\"><input class=\"sk-toggleable__control sk-hidden--visually\" id=\"sk-estimator-id-4\" type=\"checkbox\" ><label for=\"sk-estimator-id-4\" class=\"sk-toggleable__label sk-toggleable__label-arrow\">GridSearchCV</label><div class=\"sk-toggleable__content\"><pre>GridSearchCV(cv=5, estimator=RandomForestClassifier(),\n",
       "             param_grid={&#x27;max_depth&#x27;: [2, 4, 6, 8]}, scoring=&#x27;roc_auc&#x27;)</pre></div></div></div><div class=\"sk-parallel\"><div class=\"sk-parallel-item\"><div class=\"sk-item\"><div class=\"sk-label-container\"><div class=\"sk-label sk-toggleable\"><input class=\"sk-toggleable__control sk-hidden--visually\" id=\"sk-estimator-id-5\" type=\"checkbox\" ><label for=\"sk-estimator-id-5\" class=\"sk-toggleable__label sk-toggleable__label-arrow\">estimator: RandomForestClassifier</label><div class=\"sk-toggleable__content\"><pre>RandomForestClassifier()</pre></div></div></div><div class=\"sk-serial\"><div class=\"sk-item\"><div class=\"sk-estimator sk-toggleable\"><input class=\"sk-toggleable__control sk-hidden--visually\" id=\"sk-estimator-id-6\" type=\"checkbox\" ><label for=\"sk-estimator-id-6\" class=\"sk-toggleable__label sk-toggleable__label-arrow\">RandomForestClassifier</label><div class=\"sk-toggleable__content\"><pre>RandomForestClassifier()</pre></div></div></div></div></div></div></div></div></div></div>"
      ],
      "text/plain": [
       "GridSearchCV(cv=5, estimator=RandomForestClassifier(),\n",
       "             param_grid={'max_depth': [2, 4, 6, 8]}, scoring='roc_auc')"
      ]
     },
     "execution_count": 10,
     "metadata": {},
     "output_type": "execute_result"
    },
    {
     "name": "stdout",
     "output_type": "stream",
     "text": [
      "Decision Tree Results:\n",
      "Best max_depth: {'max_depth': 6}\n",
      "Best CV score: 0.6693320556540169\n",
      "\n",
      "Random Forest Results:\n",
      "Best max_depth: {'max_depth': 6}\n",
      "Best CV score: 0.6861190904939611\n"
     ]
    }
   ],
   "source": [
    "dt_2 = dt()\n",
    "rf_2 = rf()\n",
    "\n",
    "# Set up parameter grid for max_depth\n",
    "param_grid = {\n",
    "    'max_depth': [2, 4, 6, 8]\n",
    "}\n",
    "\n",
    "# Create and fit GridSearchCV for Decision Tree\n",
    "dt_grid = GridSearchCV(\n",
    "    dt_2,\n",
    "    param_grid,\n",
    "    cv=5,\n",
    "    scoring='roc_auc'\n",
    ")\n",
    "dt_grid.fit(X__train, y__any__train)\n",
    "\n",
    "# Create and fit GridSearchCV for Random Forest\n",
    "rf_grid = GridSearchCV(\n",
    "    rf_2,\n",
    "    param_grid,\n",
    "    cv=5,\n",
    "    scoring='roc_auc'\n",
    ")\n",
    "rf_grid.fit(X__train, y__any__train)\n",
    "\n",
    "# Print results\n",
    "print(\"Decision Tree Results:\")\n",
    "print(\"Best max_depth:\", dt_grid.best_params_)\n",
    "print(\"Best CV score:\", dt_grid.best_score_)\n",
    "\n",
    "print(\"\\nRandom Forest Results:\")\n",
    "print(\"Best max_depth:\", rf_grid.best_params_)\n",
    "print(\"Best CV score:\", rf_grid.best_score_)"
   ]
  },
  {
   "cell_type": "markdown",
   "id": "afebe10f",
   "metadata": {
    "deletable": false,
    "editable": false,
    "run_control": {
     "frozen": true
    }
   },
   "source": [
    "## Model training (0.5 points)\n",
    "Train the two models to predict any rearrest "
   ]
  },
  {
   "cell_type": "code",
   "execution_count": 11,
   "id": "c27c0e85",
   "metadata": {
    "ExecuteTime": {
     "end_time": "2022-12-08T02:24:36.600291Z",
     "start_time": "2022-12-08T02:24:36.199835Z"
    }
   },
   "outputs": [
    {
     "data": {
      "text/html": [
       "<style>#sk-container-id-3 {color: black;background-color: white;}#sk-container-id-3 pre{padding: 0;}#sk-container-id-3 div.sk-toggleable {background-color: white;}#sk-container-id-3 label.sk-toggleable__label {cursor: pointer;display: block;width: 100%;margin-bottom: 0;padding: 0.3em;box-sizing: border-box;text-align: center;}#sk-container-id-3 label.sk-toggleable__label-arrow:before {content: \"▸\";float: left;margin-right: 0.25em;color: #696969;}#sk-container-id-3 label.sk-toggleable__label-arrow:hover:before {color: black;}#sk-container-id-3 div.sk-estimator:hover label.sk-toggleable__label-arrow:before {color: black;}#sk-container-id-3 div.sk-toggleable__content {max-height: 0;max-width: 0;overflow: hidden;text-align: left;background-color: #f0f8ff;}#sk-container-id-3 div.sk-toggleable__content pre {margin: 0.2em;color: black;border-radius: 0.25em;background-color: #f0f8ff;}#sk-container-id-3 input.sk-toggleable__control:checked~div.sk-toggleable__content {max-height: 200px;max-width: 100%;overflow: auto;}#sk-container-id-3 input.sk-toggleable__control:checked~label.sk-toggleable__label-arrow:before {content: \"▾\";}#sk-container-id-3 div.sk-estimator input.sk-toggleable__control:checked~label.sk-toggleable__label {background-color: #d4ebff;}#sk-container-id-3 div.sk-label input.sk-toggleable__control:checked~label.sk-toggleable__label {background-color: #d4ebff;}#sk-container-id-3 input.sk-hidden--visually {border: 0;clip: rect(1px 1px 1px 1px);clip: rect(1px, 1px, 1px, 1px);height: 1px;margin: -1px;overflow: hidden;padding: 0;position: absolute;width: 1px;}#sk-container-id-3 div.sk-estimator {font-family: monospace;background-color: #f0f8ff;border: 1px dotted black;border-radius: 0.25em;box-sizing: border-box;margin-bottom: 0.5em;}#sk-container-id-3 div.sk-estimator:hover {background-color: #d4ebff;}#sk-container-id-3 div.sk-parallel-item::after {content: \"\";width: 100%;border-bottom: 1px solid gray;flex-grow: 1;}#sk-container-id-3 div.sk-label:hover label.sk-toggleable__label {background-color: #d4ebff;}#sk-container-id-3 div.sk-serial::before {content: \"\";position: absolute;border-left: 1px solid gray;box-sizing: border-box;top: 0;bottom: 0;left: 50%;z-index: 0;}#sk-container-id-3 div.sk-serial {display: flex;flex-direction: column;align-items: center;background-color: white;padding-right: 0.2em;padding-left: 0.2em;position: relative;}#sk-container-id-3 div.sk-item {position: relative;z-index: 1;}#sk-container-id-3 div.sk-parallel {display: flex;align-items: stretch;justify-content: center;background-color: white;position: relative;}#sk-container-id-3 div.sk-item::before, #sk-container-id-3 div.sk-parallel-item::before {content: \"\";position: absolute;border-left: 1px solid gray;box-sizing: border-box;top: 0;bottom: 0;left: 50%;z-index: -1;}#sk-container-id-3 div.sk-parallel-item {display: flex;flex-direction: column;z-index: 1;position: relative;background-color: white;}#sk-container-id-3 div.sk-parallel-item:first-child::after {align-self: flex-end;width: 50%;}#sk-container-id-3 div.sk-parallel-item:last-child::after {align-self: flex-start;width: 50%;}#sk-container-id-3 div.sk-parallel-item:only-child::after {width: 0;}#sk-container-id-3 div.sk-dashed-wrapped {border: 1px dashed gray;margin: 0 0.4em 0.5em 0.4em;box-sizing: border-box;padding-bottom: 0.4em;background-color: white;}#sk-container-id-3 div.sk-label label {font-family: monospace;font-weight: bold;display: inline-block;line-height: 1.2em;}#sk-container-id-3 div.sk-label-container {text-align: center;}#sk-container-id-3 div.sk-container {/* jupyter's `normalize.less` sets `[hidden] { display: none; }` but bootstrap.min.css set `[hidden] { display: none !important; }` so we also need the `!important` here to be able to override the default hidden behavior on the sphinx rendered scikit-learn.org. See: https://github.com/scikit-learn/scikit-learn/issues/21755 */display: inline-block !important;position: relative;}#sk-container-id-3 div.sk-text-repr-fallback {display: none;}</style><div id=\"sk-container-id-3\" class=\"sk-top-container\"><div class=\"sk-text-repr-fallback\"><pre>DecisionTreeClassifier(max_depth=6)</pre><b>In a Jupyter environment, please rerun this cell to show the HTML representation or trust the notebook. <br />On GitHub, the HTML representation is unable to render, please try loading this page with nbviewer.org.</b></div><div class=\"sk-container\" hidden><div class=\"sk-item\"><div class=\"sk-estimator sk-toggleable\"><input class=\"sk-toggleable__control sk-hidden--visually\" id=\"sk-estimator-id-7\" type=\"checkbox\" checked><label for=\"sk-estimator-id-7\" class=\"sk-toggleable__label sk-toggleable__label-arrow\">DecisionTreeClassifier</label><div class=\"sk-toggleable__content\"><pre>DecisionTreeClassifier(max_depth=6)</pre></div></div></div></div></div>"
      ],
      "text/plain": [
       "DecisionTreeClassifier(max_depth=6)"
      ]
     },
     "execution_count": 11,
     "metadata": {},
     "output_type": "execute_result"
    },
    {
     "data": {
      "text/html": [
       "<style>#sk-container-id-4 {color: black;background-color: white;}#sk-container-id-4 pre{padding: 0;}#sk-container-id-4 div.sk-toggleable {background-color: white;}#sk-container-id-4 label.sk-toggleable__label {cursor: pointer;display: block;width: 100%;margin-bottom: 0;padding: 0.3em;box-sizing: border-box;text-align: center;}#sk-container-id-4 label.sk-toggleable__label-arrow:before {content: \"▸\";float: left;margin-right: 0.25em;color: #696969;}#sk-container-id-4 label.sk-toggleable__label-arrow:hover:before {color: black;}#sk-container-id-4 div.sk-estimator:hover label.sk-toggleable__label-arrow:before {color: black;}#sk-container-id-4 div.sk-toggleable__content {max-height: 0;max-width: 0;overflow: hidden;text-align: left;background-color: #f0f8ff;}#sk-container-id-4 div.sk-toggleable__content pre {margin: 0.2em;color: black;border-radius: 0.25em;background-color: #f0f8ff;}#sk-container-id-4 input.sk-toggleable__control:checked~div.sk-toggleable__content {max-height: 200px;max-width: 100%;overflow: auto;}#sk-container-id-4 input.sk-toggleable__control:checked~label.sk-toggleable__label-arrow:before {content: \"▾\";}#sk-container-id-4 div.sk-estimator input.sk-toggleable__control:checked~label.sk-toggleable__label {background-color: #d4ebff;}#sk-container-id-4 div.sk-label input.sk-toggleable__control:checked~label.sk-toggleable__label {background-color: #d4ebff;}#sk-container-id-4 input.sk-hidden--visually {border: 0;clip: rect(1px 1px 1px 1px);clip: rect(1px, 1px, 1px, 1px);height: 1px;margin: -1px;overflow: hidden;padding: 0;position: absolute;width: 1px;}#sk-container-id-4 div.sk-estimator {font-family: monospace;background-color: #f0f8ff;border: 1px dotted black;border-radius: 0.25em;box-sizing: border-box;margin-bottom: 0.5em;}#sk-container-id-4 div.sk-estimator:hover {background-color: #d4ebff;}#sk-container-id-4 div.sk-parallel-item::after {content: \"\";width: 100%;border-bottom: 1px solid gray;flex-grow: 1;}#sk-container-id-4 div.sk-label:hover label.sk-toggleable__label {background-color: #d4ebff;}#sk-container-id-4 div.sk-serial::before {content: \"\";position: absolute;border-left: 1px solid gray;box-sizing: border-box;top: 0;bottom: 0;left: 50%;z-index: 0;}#sk-container-id-4 div.sk-serial {display: flex;flex-direction: column;align-items: center;background-color: white;padding-right: 0.2em;padding-left: 0.2em;position: relative;}#sk-container-id-4 div.sk-item {position: relative;z-index: 1;}#sk-container-id-4 div.sk-parallel {display: flex;align-items: stretch;justify-content: center;background-color: white;position: relative;}#sk-container-id-4 div.sk-item::before, #sk-container-id-4 div.sk-parallel-item::before {content: \"\";position: absolute;border-left: 1px solid gray;box-sizing: border-box;top: 0;bottom: 0;left: 50%;z-index: -1;}#sk-container-id-4 div.sk-parallel-item {display: flex;flex-direction: column;z-index: 1;position: relative;background-color: white;}#sk-container-id-4 div.sk-parallel-item:first-child::after {align-self: flex-end;width: 50%;}#sk-container-id-4 div.sk-parallel-item:last-child::after {align-self: flex-start;width: 50%;}#sk-container-id-4 div.sk-parallel-item:only-child::after {width: 0;}#sk-container-id-4 div.sk-dashed-wrapped {border: 1px dashed gray;margin: 0 0.4em 0.5em 0.4em;box-sizing: border-box;padding-bottom: 0.4em;background-color: white;}#sk-container-id-4 div.sk-label label {font-family: monospace;font-weight: bold;display: inline-block;line-height: 1.2em;}#sk-container-id-4 div.sk-label-container {text-align: center;}#sk-container-id-4 div.sk-container {/* jupyter's `normalize.less` sets `[hidden] { display: none; }` but bootstrap.min.css set `[hidden] { display: none !important; }` so we also need the `!important` here to be able to override the default hidden behavior on the sphinx rendered scikit-learn.org. See: https://github.com/scikit-learn/scikit-learn/issues/21755 */display: inline-block !important;position: relative;}#sk-container-id-4 div.sk-text-repr-fallback {display: none;}</style><div id=\"sk-container-id-4\" class=\"sk-top-container\"><div class=\"sk-text-repr-fallback\"><pre>RandomForestClassifier(max_depth=6)</pre><b>In a Jupyter environment, please rerun this cell to show the HTML representation or trust the notebook. <br />On GitHub, the HTML representation is unable to render, please try loading this page with nbviewer.org.</b></div><div class=\"sk-container\" hidden><div class=\"sk-item\"><div class=\"sk-estimator sk-toggleable\"><input class=\"sk-toggleable__control sk-hidden--visually\" id=\"sk-estimator-id-8\" type=\"checkbox\" checked><label for=\"sk-estimator-id-8\" class=\"sk-toggleable__label sk-toggleable__label-arrow\">RandomForestClassifier</label><div class=\"sk-toggleable__content\"><pre>RandomForestClassifier(max_depth=6)</pre></div></div></div></div></div>"
      ],
      "text/plain": [
       "RandomForestClassifier(max_depth=6)"
      ]
     },
     "execution_count": 11,
     "metadata": {},
     "output_type": "execute_result"
    },
    {
     "name": "stdout",
     "output_type": "stream",
     "text": [
      "Validation AUC scores:\n",
      "Decision Tree AUC: 0.630\n",
      "Random Forest AUC: 0.655\n"
     ]
    }
   ],
   "source": [
    "# Train Decision Tree with the best max_depth from GridSearchCV\n",
    "dt_any = dt(max_depth=dt_grid.best_params_['max_depth'])\n",
    "dt_any.fit(X__train, y__any__train)\n",
    "\n",
    "# Train Random Forest with the best max_depth from GridSearchCV\n",
    "rf_any = rf(max_depth=rf_grid.best_params_['max_depth'])\n",
    "rf_any.fit(X__train, y__any__train)\n",
    "\n",
    "# Get predictions on validation set for both models\n",
    "dt_any_pred = dt_any.predict_proba(X__validation)[:, 1]\n",
    "rf_any_pred = rf_any.predict_proba(X__validation)[:, 1]\n",
    "\n",
    "# Calculate validation AUC scores\n",
    "from sklearn.metrics import roc_auc_score\n",
    "\n",
    "dt_any_auc = roc_auc_score(validation['outcome__any'], dt_any_pred)\n",
    "rf_any_auc = roc_auc_score(validation['outcome__any'], rf_any_pred)\n",
    "\n",
    "print(\"Validation AUC scores:\")\n",
    "print(f\"Decision Tree AUC: {dt_any_auc:.3f}\")\n",
    "print(f\"Random Forest AUC: {rf_any_auc:.3f}\")"
   ]
  },
  {
   "cell_type": "markdown",
   "id": "11a764cb",
   "metadata": {
    "deletable": false,
    "editable": false,
    "run_control": {
     "frozen": true
    }
   },
   "source": [
    "## Predict for validation (0.5 points)\n",
    "Create the following two columns in `validation` that will hold the predicted probabilities from the models when predicting for the validation set:\n",
    "1. `pred__any__dt2`\n",
    "1. `pred__any__rf2`"
   ]
  },
  {
   "cell_type": "code",
   "execution_count": 12,
   "id": "13691f7b",
   "metadata": {
    "ExecuteTime": {
     "end_time": "2022-12-08T02:24:37.064733Z",
     "start_time": "2022-12-08T02:24:36.989931Z"
    }
   },
   "outputs": [
    {
     "name": "stdout",
     "output_type": "stream",
     "text": [
      "New columns in validation DataFrame:\n",
      "      pred__any__dt2  pred__any__rf2\n",
      "5101        0.115789        0.102772\n",
      "4973        0.115789        0.120746\n",
      "7753        0.115789        0.115921\n",
      "5092        0.400000        0.262414\n",
      "3385        0.232143        0.305571\n"
     ]
    }
   ],
   "source": [
    "# Add Decision Tree predictions to validation DataFrame\n",
    "validation['pred__any__dt2'] = dt_any.predict_proba(X__validation)[:, 1]\n",
    "\n",
    "# Add Random Forest predictions to validation DataFrame\n",
    "validation['pred__any__rf2'] = rf_any.predict_proba(X__validation)[:, 1]\n",
    "\n",
    "# Verify the new columns are added\n",
    "print(\"New columns in validation DataFrame:\")\n",
    "print(validation[['pred__any__dt2', 'pred__any__rf2']].head())"
   ]
  },
  {
   "cell_type": "markdown",
   "id": "62c397c7",
   "metadata": {
    "deletable": false,
    "editable": false,
    "run_control": {
     "frozen": true
    }
   },
   "source": [
    "## Convert predicted probabilities to predicted outcomes (0.5 points)\n",
    "Create the following two columns in `validation` that will hold the predicted outcomes from the models when predicting for the validation set:\n",
    "1. `yhat__any__dt2`\n",
    "1. `yhat__any__rf2`\n",
    "\n",
    "(Make sure to use `threshold__any`)\n",
    "\n",
    "I have provided the code for the first one of these. Note that the `rank` function also includes a parameter called `method` which I have set to first. Please make sure to also include that parameter in all subsequent calls to `rank`."
   ]
  },
  {
   "cell_type": "code",
   "execution_count": 13,
   "id": "131a5eaf",
   "metadata": {
    "ExecuteTime": {
     "end_time": "2022-12-08T02:24:38.120746Z",
     "start_time": "2022-12-08T02:24:38.096601Z"
    }
   },
   "outputs": [
    {
     "name": "stdout",
     "output_type": "stream",
     "text": [
      "New prediction columns in validation DataFrame:\n",
      "      yhat__any__dt2  yhat__any__rf2\n",
      "5101           False           False\n",
      "4973           False           False\n",
      "7753           False           False\n",
      "5092            True            True\n",
      "3385            True            True\n"
     ]
    }
   ],
   "source": [
    "validation['yhat__any__dt2'] = validation.pred__any__dt2.rank(ascending=False, method='first') <= threshold__any\n",
    "\n",
    "# Create prediction column for Random Forest\n",
    "validation['yhat__any__rf2'] = validation.pred__any__rf2.rank(ascending=False, method='first') <= threshold__any\n",
    "\n",
    "# Verify the new columns\n",
    "print(\"New prediction columns in validation DataFrame:\")\n",
    "print(validation[['yhat__any__dt2', 'yhat__any__rf2']].head())"
   ]
  },
  {
   "cell_type": "markdown",
   "id": "83208575",
   "metadata": {
    "deletable": false,
    "editable": false,
    "run_control": {
     "frozen": true
    }
   },
   "source": [
    "## Compute PPV (0.5 points)\n",
    "Use the `yhat` and `outcome` columns to compute PPV (Positive Predictive Value or precision) for both models"
   ]
  },
  {
   "cell_type": "code",
   "execution_count": 14,
   "id": "c2b69b84",
   "metadata": {
    "ExecuteTime": {
     "end_time": "2022-12-08T02:24:40.416548Z",
     "start_time": "2022-12-08T02:24:40.376118Z"
    }
   },
   "outputs": [
    {
     "name": "stdout",
     "output_type": "stream",
     "text": [
      "Positive Predictive Values (PPV/Precision):\n",
      "Decision Tree PPV: 0.286\n",
      "Random Forest PPV: 0.298\n"
     ]
    }
   ],
   "source": [
    "# Compute PPV for Decision Tree\n",
    "ppv_dt = precision_score(validation['outcome__any'], validation['yhat__any__dt2'])\n",
    "\n",
    "# Compute PPV for Random Forest\n",
    "ppv_rf = precision_score(validation['outcome__any'], validation['yhat__any__rf2'])\n",
    "\n",
    "print(\"Positive Predictive Values (PPV/Precision):\")\n",
    "print(f\"Decision Tree PPV: {ppv_dt:.3f}\")\n",
    "print(f\"Random Forest PPV: {ppv_rf:.3f}\")"
   ]
  },
  {
   "cell_type": "markdown",
   "id": "881cdd7f",
   "metadata": {
    "deletable": false,
    "editable": false,
    "run_control": {
     "frozen": true
    }
   },
   "source": [
    "## Predict for holdout and convert to yhat (0.5 points)\n",
    "Which model had the higher PPV? Use that model (or select either if they have identical performance) to:\n",
    "- Create a column called `pred__any` in `holdout` which holds predicted probabilities of any rearrest for the holdout set\n",
    "- Create a column called `yhat__any` in `holdout` which holds the predicted outcomes for the holdout set"
   ]
  },
  {
   "cell_type": "code",
   "execution_count": 15,
   "id": "607d2213",
   "metadata": {
    "ExecuteTime": {
     "end_time": "2022-12-08T02:24:45.154516Z",
     "start_time": "2022-12-08T02:24:45.081572Z"
    }
   },
   "outputs": [
    {
     "name": "stdout",
     "output_type": "stream",
     "text": [
      "New columns in holdout DataFrame:\n",
      "      pred__any  yhat__any\n",
      "1281   0.104944      False\n",
      "3095   0.102083      False\n",
      "2018   0.115415      False\n",
      "2807   0.120746      False\n",
      "2543   0.094959      False\n"
     ]
    }
   ],
   "source": [
    "# Random Forest has a higher PPV\n",
    "# Create probability predictions using Random Forest\n",
    "holdout['pred__any'] = rf_any.predict_proba(X__holdout)[:, 1]\n",
    "\n",
    "# Convert to predicted outcomes\n",
    "holdout['yhat__any'] = holdout.pred__any.rank(ascending=False, method='first') <= threshold__any\n",
    "\n",
    "# Verify the new columns\n",
    "print(\"New columns in holdout DataFrame:\")\n",
    "print(holdout[['pred__any', 'yhat__any']].head())"
   ]
  },
  {
   "cell_type": "markdown",
   "id": "ecfcabd8",
   "metadata": {
    "ExecuteTime": {
     "end_time": "2022-12-07T21:30:49.102442Z",
     "start_time": "2022-12-07T21:30:49.085992Z"
    },
    "deletable": false,
    "editable": false,
    "run_control": {
     "frozen": true
    }
   },
   "source": [
    "# Repeat the steps above for the felony prediction (2.5 points)\n",
    "1. Train model\n",
    "1. Predict for validation \n",
    "1. Create y-hat for validation\n",
    "1. Compute PPV\n",
    "1. Predict for holdout and convert yhat \n",
    "\n",
    "Make sure the column names are the same as above, but change `any` to `felony`\n",
    "\n",
    "(If your two models give the same PPV, just choose either when predicting for holdout)"
   ]
  },
  {
   "cell_type": "code",
   "execution_count": 16,
   "id": "2f60d668",
   "metadata": {
    "ExecuteTime": {
     "end_time": "2022-12-08T02:24:48.763400Z",
     "start_time": "2022-12-08T02:24:48.255453Z"
    }
   },
   "outputs": [
    {
     "data": {
      "text/html": [
       "<style>#sk-container-id-5 {color: black;background-color: white;}#sk-container-id-5 pre{padding: 0;}#sk-container-id-5 div.sk-toggleable {background-color: white;}#sk-container-id-5 label.sk-toggleable__label {cursor: pointer;display: block;width: 100%;margin-bottom: 0;padding: 0.3em;box-sizing: border-box;text-align: center;}#sk-container-id-5 label.sk-toggleable__label-arrow:before {content: \"▸\";float: left;margin-right: 0.25em;color: #696969;}#sk-container-id-5 label.sk-toggleable__label-arrow:hover:before {color: black;}#sk-container-id-5 div.sk-estimator:hover label.sk-toggleable__label-arrow:before {color: black;}#sk-container-id-5 div.sk-toggleable__content {max-height: 0;max-width: 0;overflow: hidden;text-align: left;background-color: #f0f8ff;}#sk-container-id-5 div.sk-toggleable__content pre {margin: 0.2em;color: black;border-radius: 0.25em;background-color: #f0f8ff;}#sk-container-id-5 input.sk-toggleable__control:checked~div.sk-toggleable__content {max-height: 200px;max-width: 100%;overflow: auto;}#sk-container-id-5 input.sk-toggleable__control:checked~label.sk-toggleable__label-arrow:before {content: \"▾\";}#sk-container-id-5 div.sk-estimator input.sk-toggleable__control:checked~label.sk-toggleable__label {background-color: #d4ebff;}#sk-container-id-5 div.sk-label input.sk-toggleable__control:checked~label.sk-toggleable__label {background-color: #d4ebff;}#sk-container-id-5 input.sk-hidden--visually {border: 0;clip: rect(1px 1px 1px 1px);clip: rect(1px, 1px, 1px, 1px);height: 1px;margin: -1px;overflow: hidden;padding: 0;position: absolute;width: 1px;}#sk-container-id-5 div.sk-estimator {font-family: monospace;background-color: #f0f8ff;border: 1px dotted black;border-radius: 0.25em;box-sizing: border-box;margin-bottom: 0.5em;}#sk-container-id-5 div.sk-estimator:hover {background-color: #d4ebff;}#sk-container-id-5 div.sk-parallel-item::after {content: \"\";width: 100%;border-bottom: 1px solid gray;flex-grow: 1;}#sk-container-id-5 div.sk-label:hover label.sk-toggleable__label {background-color: #d4ebff;}#sk-container-id-5 div.sk-serial::before {content: \"\";position: absolute;border-left: 1px solid gray;box-sizing: border-box;top: 0;bottom: 0;left: 50%;z-index: 0;}#sk-container-id-5 div.sk-serial {display: flex;flex-direction: column;align-items: center;background-color: white;padding-right: 0.2em;padding-left: 0.2em;position: relative;}#sk-container-id-5 div.sk-item {position: relative;z-index: 1;}#sk-container-id-5 div.sk-parallel {display: flex;align-items: stretch;justify-content: center;background-color: white;position: relative;}#sk-container-id-5 div.sk-item::before, #sk-container-id-5 div.sk-parallel-item::before {content: \"\";position: absolute;border-left: 1px solid gray;box-sizing: border-box;top: 0;bottom: 0;left: 50%;z-index: -1;}#sk-container-id-5 div.sk-parallel-item {display: flex;flex-direction: column;z-index: 1;position: relative;background-color: white;}#sk-container-id-5 div.sk-parallel-item:first-child::after {align-self: flex-end;width: 50%;}#sk-container-id-5 div.sk-parallel-item:last-child::after {align-self: flex-start;width: 50%;}#sk-container-id-5 div.sk-parallel-item:only-child::after {width: 0;}#sk-container-id-5 div.sk-dashed-wrapped {border: 1px dashed gray;margin: 0 0.4em 0.5em 0.4em;box-sizing: border-box;padding-bottom: 0.4em;background-color: white;}#sk-container-id-5 div.sk-label label {font-family: monospace;font-weight: bold;display: inline-block;line-height: 1.2em;}#sk-container-id-5 div.sk-label-container {text-align: center;}#sk-container-id-5 div.sk-container {/* jupyter's `normalize.less` sets `[hidden] { display: none; }` but bootstrap.min.css set `[hidden] { display: none !important; }` so we also need the `!important` here to be able to override the default hidden behavior on the sphinx rendered scikit-learn.org. See: https://github.com/scikit-learn/scikit-learn/issues/21755 */display: inline-block !important;position: relative;}#sk-container-id-5 div.sk-text-repr-fallback {display: none;}</style><div id=\"sk-container-id-5\" class=\"sk-top-container\"><div class=\"sk-text-repr-fallback\"><pre>GridSearchCV(cv=5, estimator=DecisionTreeClassifier(),\n",
       "             param_grid={&#x27;max_depth&#x27;: [2, 4, 6, 8]}, scoring=&#x27;roc_auc&#x27;)</pre><b>In a Jupyter environment, please rerun this cell to show the HTML representation or trust the notebook. <br />On GitHub, the HTML representation is unable to render, please try loading this page with nbviewer.org.</b></div><div class=\"sk-container\" hidden><div class=\"sk-item sk-dashed-wrapped\"><div class=\"sk-label-container\"><div class=\"sk-label sk-toggleable\"><input class=\"sk-toggleable__control sk-hidden--visually\" id=\"sk-estimator-id-9\" type=\"checkbox\" ><label for=\"sk-estimator-id-9\" class=\"sk-toggleable__label sk-toggleable__label-arrow\">GridSearchCV</label><div class=\"sk-toggleable__content\"><pre>GridSearchCV(cv=5, estimator=DecisionTreeClassifier(),\n",
       "             param_grid={&#x27;max_depth&#x27;: [2, 4, 6, 8]}, scoring=&#x27;roc_auc&#x27;)</pre></div></div></div><div class=\"sk-parallel\"><div class=\"sk-parallel-item\"><div class=\"sk-item\"><div class=\"sk-label-container\"><div class=\"sk-label sk-toggleable\"><input class=\"sk-toggleable__control sk-hidden--visually\" id=\"sk-estimator-id-10\" type=\"checkbox\" ><label for=\"sk-estimator-id-10\" class=\"sk-toggleable__label sk-toggleable__label-arrow\">estimator: DecisionTreeClassifier</label><div class=\"sk-toggleable__content\"><pre>DecisionTreeClassifier()</pre></div></div></div><div class=\"sk-serial\"><div class=\"sk-item\"><div class=\"sk-estimator sk-toggleable\"><input class=\"sk-toggleable__control sk-hidden--visually\" id=\"sk-estimator-id-11\" type=\"checkbox\" ><label for=\"sk-estimator-id-11\" class=\"sk-toggleable__label sk-toggleable__label-arrow\">DecisionTreeClassifier</label><div class=\"sk-toggleable__content\"><pre>DecisionTreeClassifier()</pre></div></div></div></div></div></div></div></div></div></div>"
      ],
      "text/plain": [
       "GridSearchCV(cv=5, estimator=DecisionTreeClassifier(),\n",
       "             param_grid={'max_depth': [2, 4, 6, 8]}, scoring='roc_auc')"
      ]
     },
     "execution_count": 16,
     "metadata": {},
     "output_type": "execute_result"
    },
    {
     "data": {
      "text/html": [
       "<style>#sk-container-id-6 {color: black;background-color: white;}#sk-container-id-6 pre{padding: 0;}#sk-container-id-6 div.sk-toggleable {background-color: white;}#sk-container-id-6 label.sk-toggleable__label {cursor: pointer;display: block;width: 100%;margin-bottom: 0;padding: 0.3em;box-sizing: border-box;text-align: center;}#sk-container-id-6 label.sk-toggleable__label-arrow:before {content: \"▸\";float: left;margin-right: 0.25em;color: #696969;}#sk-container-id-6 label.sk-toggleable__label-arrow:hover:before {color: black;}#sk-container-id-6 div.sk-estimator:hover label.sk-toggleable__label-arrow:before {color: black;}#sk-container-id-6 div.sk-toggleable__content {max-height: 0;max-width: 0;overflow: hidden;text-align: left;background-color: #f0f8ff;}#sk-container-id-6 div.sk-toggleable__content pre {margin: 0.2em;color: black;border-radius: 0.25em;background-color: #f0f8ff;}#sk-container-id-6 input.sk-toggleable__control:checked~div.sk-toggleable__content {max-height: 200px;max-width: 100%;overflow: auto;}#sk-container-id-6 input.sk-toggleable__control:checked~label.sk-toggleable__label-arrow:before {content: \"▾\";}#sk-container-id-6 div.sk-estimator input.sk-toggleable__control:checked~label.sk-toggleable__label {background-color: #d4ebff;}#sk-container-id-6 div.sk-label input.sk-toggleable__control:checked~label.sk-toggleable__label {background-color: #d4ebff;}#sk-container-id-6 input.sk-hidden--visually {border: 0;clip: rect(1px 1px 1px 1px);clip: rect(1px, 1px, 1px, 1px);height: 1px;margin: -1px;overflow: hidden;padding: 0;position: absolute;width: 1px;}#sk-container-id-6 div.sk-estimator {font-family: monospace;background-color: #f0f8ff;border: 1px dotted black;border-radius: 0.25em;box-sizing: border-box;margin-bottom: 0.5em;}#sk-container-id-6 div.sk-estimator:hover {background-color: #d4ebff;}#sk-container-id-6 div.sk-parallel-item::after {content: \"\";width: 100%;border-bottom: 1px solid gray;flex-grow: 1;}#sk-container-id-6 div.sk-label:hover label.sk-toggleable__label {background-color: #d4ebff;}#sk-container-id-6 div.sk-serial::before {content: \"\";position: absolute;border-left: 1px solid gray;box-sizing: border-box;top: 0;bottom: 0;left: 50%;z-index: 0;}#sk-container-id-6 div.sk-serial {display: flex;flex-direction: column;align-items: center;background-color: white;padding-right: 0.2em;padding-left: 0.2em;position: relative;}#sk-container-id-6 div.sk-item {position: relative;z-index: 1;}#sk-container-id-6 div.sk-parallel {display: flex;align-items: stretch;justify-content: center;background-color: white;position: relative;}#sk-container-id-6 div.sk-item::before, #sk-container-id-6 div.sk-parallel-item::before {content: \"\";position: absolute;border-left: 1px solid gray;box-sizing: border-box;top: 0;bottom: 0;left: 50%;z-index: -1;}#sk-container-id-6 div.sk-parallel-item {display: flex;flex-direction: column;z-index: 1;position: relative;background-color: white;}#sk-container-id-6 div.sk-parallel-item:first-child::after {align-self: flex-end;width: 50%;}#sk-container-id-6 div.sk-parallel-item:last-child::after {align-self: flex-start;width: 50%;}#sk-container-id-6 div.sk-parallel-item:only-child::after {width: 0;}#sk-container-id-6 div.sk-dashed-wrapped {border: 1px dashed gray;margin: 0 0.4em 0.5em 0.4em;box-sizing: border-box;padding-bottom: 0.4em;background-color: white;}#sk-container-id-6 div.sk-label label {font-family: monospace;font-weight: bold;display: inline-block;line-height: 1.2em;}#sk-container-id-6 div.sk-label-container {text-align: center;}#sk-container-id-6 div.sk-container {/* jupyter's `normalize.less` sets `[hidden] { display: none; }` but bootstrap.min.css set `[hidden] { display: none !important; }` so we also need the `!important` here to be able to override the default hidden behavior on the sphinx rendered scikit-learn.org. See: https://github.com/scikit-learn/scikit-learn/issues/21755 */display: inline-block !important;position: relative;}#sk-container-id-6 div.sk-text-repr-fallback {display: none;}</style><div id=\"sk-container-id-6\" class=\"sk-top-container\"><div class=\"sk-text-repr-fallback\"><pre>GridSearchCV(cv=5, estimator=RandomForestClassifier(),\n",
       "             param_grid={&#x27;max_depth&#x27;: [2, 4, 6, 8]}, scoring=&#x27;roc_auc&#x27;)</pre><b>In a Jupyter environment, please rerun this cell to show the HTML representation or trust the notebook. <br />On GitHub, the HTML representation is unable to render, please try loading this page with nbviewer.org.</b></div><div class=\"sk-container\" hidden><div class=\"sk-item sk-dashed-wrapped\"><div class=\"sk-label-container\"><div class=\"sk-label sk-toggleable\"><input class=\"sk-toggleable__control sk-hidden--visually\" id=\"sk-estimator-id-12\" type=\"checkbox\" ><label for=\"sk-estimator-id-12\" class=\"sk-toggleable__label sk-toggleable__label-arrow\">GridSearchCV</label><div class=\"sk-toggleable__content\"><pre>GridSearchCV(cv=5, estimator=RandomForestClassifier(),\n",
       "             param_grid={&#x27;max_depth&#x27;: [2, 4, 6, 8]}, scoring=&#x27;roc_auc&#x27;)</pre></div></div></div><div class=\"sk-parallel\"><div class=\"sk-parallel-item\"><div class=\"sk-item\"><div class=\"sk-label-container\"><div class=\"sk-label sk-toggleable\"><input class=\"sk-toggleable__control sk-hidden--visually\" id=\"sk-estimator-id-13\" type=\"checkbox\" ><label for=\"sk-estimator-id-13\" class=\"sk-toggleable__label sk-toggleable__label-arrow\">estimator: RandomForestClassifier</label><div class=\"sk-toggleable__content\"><pre>RandomForestClassifier()</pre></div></div></div><div class=\"sk-serial\"><div class=\"sk-item\"><div class=\"sk-estimator sk-toggleable\"><input class=\"sk-toggleable__control sk-hidden--visually\" id=\"sk-estimator-id-14\" type=\"checkbox\" ><label for=\"sk-estimator-id-14\" class=\"sk-toggleable__label sk-toggleable__label-arrow\">RandomForestClassifier</label><div class=\"sk-toggleable__content\"><pre>RandomForestClassifier()</pre></div></div></div></div></div></div></div></div></div></div>"
      ],
      "text/plain": [
       "GridSearchCV(cv=5, estimator=RandomForestClassifier(),\n",
       "             param_grid={'max_depth': [2, 4, 6, 8]}, scoring='roc_auc')"
      ]
     },
     "execution_count": 16,
     "metadata": {},
     "output_type": "execute_result"
    },
    {
     "data": {
      "text/html": [
       "<style>#sk-container-id-7 {color: black;background-color: white;}#sk-container-id-7 pre{padding: 0;}#sk-container-id-7 div.sk-toggleable {background-color: white;}#sk-container-id-7 label.sk-toggleable__label {cursor: pointer;display: block;width: 100%;margin-bottom: 0;padding: 0.3em;box-sizing: border-box;text-align: center;}#sk-container-id-7 label.sk-toggleable__label-arrow:before {content: \"▸\";float: left;margin-right: 0.25em;color: #696969;}#sk-container-id-7 label.sk-toggleable__label-arrow:hover:before {color: black;}#sk-container-id-7 div.sk-estimator:hover label.sk-toggleable__label-arrow:before {color: black;}#sk-container-id-7 div.sk-toggleable__content {max-height: 0;max-width: 0;overflow: hidden;text-align: left;background-color: #f0f8ff;}#sk-container-id-7 div.sk-toggleable__content pre {margin: 0.2em;color: black;border-radius: 0.25em;background-color: #f0f8ff;}#sk-container-id-7 input.sk-toggleable__control:checked~div.sk-toggleable__content {max-height: 200px;max-width: 100%;overflow: auto;}#sk-container-id-7 input.sk-toggleable__control:checked~label.sk-toggleable__label-arrow:before {content: \"▾\";}#sk-container-id-7 div.sk-estimator input.sk-toggleable__control:checked~label.sk-toggleable__label {background-color: #d4ebff;}#sk-container-id-7 div.sk-label input.sk-toggleable__control:checked~label.sk-toggleable__label {background-color: #d4ebff;}#sk-container-id-7 input.sk-hidden--visually {border: 0;clip: rect(1px 1px 1px 1px);clip: rect(1px, 1px, 1px, 1px);height: 1px;margin: -1px;overflow: hidden;padding: 0;position: absolute;width: 1px;}#sk-container-id-7 div.sk-estimator {font-family: monospace;background-color: #f0f8ff;border: 1px dotted black;border-radius: 0.25em;box-sizing: border-box;margin-bottom: 0.5em;}#sk-container-id-7 div.sk-estimator:hover {background-color: #d4ebff;}#sk-container-id-7 div.sk-parallel-item::after {content: \"\";width: 100%;border-bottom: 1px solid gray;flex-grow: 1;}#sk-container-id-7 div.sk-label:hover label.sk-toggleable__label {background-color: #d4ebff;}#sk-container-id-7 div.sk-serial::before {content: \"\";position: absolute;border-left: 1px solid gray;box-sizing: border-box;top: 0;bottom: 0;left: 50%;z-index: 0;}#sk-container-id-7 div.sk-serial {display: flex;flex-direction: column;align-items: center;background-color: white;padding-right: 0.2em;padding-left: 0.2em;position: relative;}#sk-container-id-7 div.sk-item {position: relative;z-index: 1;}#sk-container-id-7 div.sk-parallel {display: flex;align-items: stretch;justify-content: center;background-color: white;position: relative;}#sk-container-id-7 div.sk-item::before, #sk-container-id-7 div.sk-parallel-item::before {content: \"\";position: absolute;border-left: 1px solid gray;box-sizing: border-box;top: 0;bottom: 0;left: 50%;z-index: -1;}#sk-container-id-7 div.sk-parallel-item {display: flex;flex-direction: column;z-index: 1;position: relative;background-color: white;}#sk-container-id-7 div.sk-parallel-item:first-child::after {align-self: flex-end;width: 50%;}#sk-container-id-7 div.sk-parallel-item:last-child::after {align-self: flex-start;width: 50%;}#sk-container-id-7 div.sk-parallel-item:only-child::after {width: 0;}#sk-container-id-7 div.sk-dashed-wrapped {border: 1px dashed gray;margin: 0 0.4em 0.5em 0.4em;box-sizing: border-box;padding-bottom: 0.4em;background-color: white;}#sk-container-id-7 div.sk-label label {font-family: monospace;font-weight: bold;display: inline-block;line-height: 1.2em;}#sk-container-id-7 div.sk-label-container {text-align: center;}#sk-container-id-7 div.sk-container {/* jupyter's `normalize.less` sets `[hidden] { display: none; }` but bootstrap.min.css set `[hidden] { display: none !important; }` so we also need the `!important` here to be able to override the default hidden behavior on the sphinx rendered scikit-learn.org. See: https://github.com/scikit-learn/scikit-learn/issues/21755 */display: inline-block !important;position: relative;}#sk-container-id-7 div.sk-text-repr-fallback {display: none;}</style><div id=\"sk-container-id-7\" class=\"sk-top-container\"><div class=\"sk-text-repr-fallback\"><pre>DecisionTreeClassifier(max_depth=6)</pre><b>In a Jupyter environment, please rerun this cell to show the HTML representation or trust the notebook. <br />On GitHub, the HTML representation is unable to render, please try loading this page with nbviewer.org.</b></div><div class=\"sk-container\" hidden><div class=\"sk-item\"><div class=\"sk-estimator sk-toggleable\"><input class=\"sk-toggleable__control sk-hidden--visually\" id=\"sk-estimator-id-15\" type=\"checkbox\" checked><label for=\"sk-estimator-id-15\" class=\"sk-toggleable__label sk-toggleable__label-arrow\">DecisionTreeClassifier</label><div class=\"sk-toggleable__content\"><pre>DecisionTreeClassifier(max_depth=6)</pre></div></div></div></div></div>"
      ],
      "text/plain": [
       "DecisionTreeClassifier(max_depth=6)"
      ]
     },
     "execution_count": 16,
     "metadata": {},
     "output_type": "execute_result"
    },
    {
     "data": {
      "text/html": [
       "<style>#sk-container-id-8 {color: black;background-color: white;}#sk-container-id-8 pre{padding: 0;}#sk-container-id-8 div.sk-toggleable {background-color: white;}#sk-container-id-8 label.sk-toggleable__label {cursor: pointer;display: block;width: 100%;margin-bottom: 0;padding: 0.3em;box-sizing: border-box;text-align: center;}#sk-container-id-8 label.sk-toggleable__label-arrow:before {content: \"▸\";float: left;margin-right: 0.25em;color: #696969;}#sk-container-id-8 label.sk-toggleable__label-arrow:hover:before {color: black;}#sk-container-id-8 div.sk-estimator:hover label.sk-toggleable__label-arrow:before {color: black;}#sk-container-id-8 div.sk-toggleable__content {max-height: 0;max-width: 0;overflow: hidden;text-align: left;background-color: #f0f8ff;}#sk-container-id-8 div.sk-toggleable__content pre {margin: 0.2em;color: black;border-radius: 0.25em;background-color: #f0f8ff;}#sk-container-id-8 input.sk-toggleable__control:checked~div.sk-toggleable__content {max-height: 200px;max-width: 100%;overflow: auto;}#sk-container-id-8 input.sk-toggleable__control:checked~label.sk-toggleable__label-arrow:before {content: \"▾\";}#sk-container-id-8 div.sk-estimator input.sk-toggleable__control:checked~label.sk-toggleable__label {background-color: #d4ebff;}#sk-container-id-8 div.sk-label input.sk-toggleable__control:checked~label.sk-toggleable__label {background-color: #d4ebff;}#sk-container-id-8 input.sk-hidden--visually {border: 0;clip: rect(1px 1px 1px 1px);clip: rect(1px, 1px, 1px, 1px);height: 1px;margin: -1px;overflow: hidden;padding: 0;position: absolute;width: 1px;}#sk-container-id-8 div.sk-estimator {font-family: monospace;background-color: #f0f8ff;border: 1px dotted black;border-radius: 0.25em;box-sizing: border-box;margin-bottom: 0.5em;}#sk-container-id-8 div.sk-estimator:hover {background-color: #d4ebff;}#sk-container-id-8 div.sk-parallel-item::after {content: \"\";width: 100%;border-bottom: 1px solid gray;flex-grow: 1;}#sk-container-id-8 div.sk-label:hover label.sk-toggleable__label {background-color: #d4ebff;}#sk-container-id-8 div.sk-serial::before {content: \"\";position: absolute;border-left: 1px solid gray;box-sizing: border-box;top: 0;bottom: 0;left: 50%;z-index: 0;}#sk-container-id-8 div.sk-serial {display: flex;flex-direction: column;align-items: center;background-color: white;padding-right: 0.2em;padding-left: 0.2em;position: relative;}#sk-container-id-8 div.sk-item {position: relative;z-index: 1;}#sk-container-id-8 div.sk-parallel {display: flex;align-items: stretch;justify-content: center;background-color: white;position: relative;}#sk-container-id-8 div.sk-item::before, #sk-container-id-8 div.sk-parallel-item::before {content: \"\";position: absolute;border-left: 1px solid gray;box-sizing: border-box;top: 0;bottom: 0;left: 50%;z-index: -1;}#sk-container-id-8 div.sk-parallel-item {display: flex;flex-direction: column;z-index: 1;position: relative;background-color: white;}#sk-container-id-8 div.sk-parallel-item:first-child::after {align-self: flex-end;width: 50%;}#sk-container-id-8 div.sk-parallel-item:last-child::after {align-self: flex-start;width: 50%;}#sk-container-id-8 div.sk-parallel-item:only-child::after {width: 0;}#sk-container-id-8 div.sk-dashed-wrapped {border: 1px dashed gray;margin: 0 0.4em 0.5em 0.4em;box-sizing: border-box;padding-bottom: 0.4em;background-color: white;}#sk-container-id-8 div.sk-label label {font-family: monospace;font-weight: bold;display: inline-block;line-height: 1.2em;}#sk-container-id-8 div.sk-label-container {text-align: center;}#sk-container-id-8 div.sk-container {/* jupyter's `normalize.less` sets `[hidden] { display: none; }` but bootstrap.min.css set `[hidden] { display: none !important; }` so we also need the `!important` here to be able to override the default hidden behavior on the sphinx rendered scikit-learn.org. See: https://github.com/scikit-learn/scikit-learn/issues/21755 */display: inline-block !important;position: relative;}#sk-container-id-8 div.sk-text-repr-fallback {display: none;}</style><div id=\"sk-container-id-8\" class=\"sk-top-container\"><div class=\"sk-text-repr-fallback\"><pre>RandomForestClassifier(max_depth=6)</pre><b>In a Jupyter environment, please rerun this cell to show the HTML representation or trust the notebook. <br />On GitHub, the HTML representation is unable to render, please try loading this page with nbviewer.org.</b></div><div class=\"sk-container\" hidden><div class=\"sk-item\"><div class=\"sk-estimator sk-toggleable\"><input class=\"sk-toggleable__control sk-hidden--visually\" id=\"sk-estimator-id-16\" type=\"checkbox\" checked><label for=\"sk-estimator-id-16\" class=\"sk-toggleable__label sk-toggleable__label-arrow\">RandomForestClassifier</label><div class=\"sk-toggleable__content\"><pre>RandomForestClassifier(max_depth=6)</pre></div></div></div></div></div>"
      ],
      "text/plain": [
       "RandomForestClassifier(max_depth=6)"
      ]
     },
     "execution_count": 16,
     "metadata": {},
     "output_type": "execute_result"
    },
    {
     "name": "stdout",
     "output_type": "stream",
     "text": [
      "Positive Predictive Values (PPV/Precision) for Felony:\n",
      "Decision Tree PPV: 0.160\n",
      "Random Forest PPV: 0.210\n"
     ]
    }
   ],
   "source": [
    "# 1. Train models for felony prediction\n",
    "# Set up and run GridSearchCV\n",
    "param_grid = {\n",
    "    'max_depth': [2, 4, 6, 8]\n",
    "}\n",
    "\n",
    "# Train Decision Tree with GridSearchCV\n",
    "dt_grid_felony = GridSearchCV(dt(), param_grid, cv=5, scoring='roc_auc')\n",
    "dt_grid_felony.fit(X__train, y__felony__train)\n",
    "\n",
    "# Train Random Forest with GridSearchCV\n",
    "rf_grid_felony = GridSearchCV(rf(), param_grid, cv=5, scoring='roc_auc')\n",
    "rf_grid_felony.fit(X__train, y__felony__train)\n",
    "\n",
    "# Train final models with best parameters\n",
    "dt_felony = dt(max_depth=dt_grid_felony.best_params_['max_depth'])\n",
    "rf_felony = rf(max_depth=rf_grid_felony.best_params_['max_depth'])\n",
    "dt_felony.fit(X__train, y__felony__train)\n",
    "rf_felony.fit(X__train, y__felony__train)\n",
    "\n",
    "# 2. Predict for validation\n",
    "validation['pred__felony__dt2'] = dt_felony.predict_proba(X__validation)[:, 1]\n",
    "validation['pred__felony__rf2'] = rf_felony.predict_proba(X__validation)[:, 1]\n",
    "\n",
    "# 3. Create y-hat for validation (using threshold__felony = 100)\n",
    "validation['yhat__felony__dt2'] = validation.pred__felony__dt2.rank(ascending=False, method='first') <= threshold__felony\n",
    "validation['yhat__felony__rf2'] = validation.pred__felony__rf2.rank(ascending=False, method='first') <= threshold__felony\n",
    "\n",
    "# 4. Compute PPV for both models\n",
    "ppv_dt_felony = precision_score(validation['outcome__felony'], validation['yhat__felony__dt2'])\n",
    "ppv_rf_felony = precision_score(validation['outcome__felony'], validation['yhat__felony__rf2'])\n",
    "\n",
    "print(\"Positive Predictive Values (PPV/Precision) for Felony:\")\n",
    "print(f\"Decision Tree PPV: {ppv_dt_felony:.3f}\")\n",
    "print(f\"Random Forest PPV: {ppv_rf_felony:.3f}\")\n",
    "\n",
    "# 5. Predict for holdout using better model (assuming RF is better, adjust based on actual results)\n",
    "if ppv_rf_felony > ppv_dt_felony:\n",
    "    holdout['pred__felony'] = rf_felony.predict_proba(X__holdout)[:, 1]\n",
    "else:\n",
    "    holdout['pred__felony'] = dt_felony.predict_proba(X__holdout)[:, 1]\n",
    "\n",
    "# Create yhat for holdout\n",
    "holdout['yhat__felony'] = holdout.pred__felony.rank(ascending=False, method='first') <= threshold__felony"
   ]
  },
  {
   "cell_type": "markdown",
   "id": "b3a5665e",
   "metadata": {
    "ExecuteTime": {
     "end_time": "2022-05-10T21:36:29.960325Z",
     "start_time": "2022-05-10T21:36:29.879877Z"
    },
    "deletable": false,
    "editable": false,
    "run_control": {
     "frozen": true
    }
   },
   "source": [
    "<a id='section_7'></a>\n",
    "# Calculate Impact\n",
    "## Online Therapy Program \n",
    "### Number of arrests before the intervention (1 point)\n",
    "Created the following two variables:\n",
    "- `flagged__nonfelony__any_model` -  The number of nonfelony rearrests among those predicted to be at high risk of any rearrest in the absence of the intervention\n",
    "- `flagged__felony__any_model` -  The number of felony rearrests among those predicted to be at high risk of any rearrest in the absence of the intervention\n"
   ]
  },
  {
   "cell_type": "code",
   "execution_count": 17,
   "id": "4a299275",
   "metadata": {
    "ExecuteTime": {
     "end_time": "2022-12-08T02:29:13.059724Z",
     "start_time": "2022-12-08T02:29:13.021207Z"
    }
   },
   "outputs": [
    {
     "name": "stdout",
     "output_type": "stream",
     "text": [
      "Among those flagged as high risk of any rearrest:\n",
      "Number of nonfelony rearrests: 117\n",
      "Number of felony rearrests: 29\n"
     ]
    }
   ],
   "source": [
    "# Calculate nonfelony rearrests for those flagged by any model\n",
    "flagged__nonfelony__any_model = sum(\n",
    "    (holdout['yhat__any'] == 1) & \n",
    "    (holdout['outcome__any'] == 1) & \n",
    "    (holdout['outcome__felony'] == 0)\n",
    ")\n",
    "\n",
    "# Calculate felony rearrests for those flagged by any model\n",
    "flagged__felony__any_model = sum(\n",
    "    (holdout['yhat__any'] == 1) & \n",
    "    (holdout['outcome__felony'] == 1)\n",
    ")\n",
    "\n",
    "print(\"Among those flagged as high risk of any rearrest:\")\n",
    "print(f\"Number of nonfelony rearrests: {flagged__nonfelony__any_model}\")\n",
    "print(f\"Number of felony rearrests: {flagged__felony__any_model}\")"
   ]
  },
  {
   "cell_type": "markdown",
   "id": "ed0bec21",
   "metadata": {
    "deletable": false,
    "editable": false,
    "run_control": {
     "frozen": true
    }
   },
   "source": [
    "### Effect of intervention (1 point)\n",
    "Using information about the treatment effect of the intervention, create the following two variables:\n",
    "- `change__nonfelony__any_model` - The change in the number of nonfelony rearrests among those predicted to be at high risk of any rearrest after the intervention\n",
    "\n",
    "- `change__felony__any_model` - The change in the number of felony rearrests among those predicted to be at high risk of any rearrest after the intervention"
   ]
  },
  {
   "cell_type": "code",
   "execution_count": 18,
   "id": "541ad1b7",
   "metadata": {
    "ExecuteTime": {
     "end_time": "2022-12-08T02:30:19.036029Z",
     "start_time": "2022-12-08T02:30:19.011891Z"
    }
   },
   "outputs": [
    {
     "name": "stdout",
     "output_type": "stream",
     "text": [
      "Changes after online therapy intervention:\n",
      "Change in nonfelony rearrests: -23.4\n",
      "Change in felony rearrests: -5.8\n"
     ]
    }
   ],
   "source": [
    "# Calculate reduction in nonfelony rearrests\n",
    "change__nonfelony__any_model = -1 * flagged__nonfelony__any_model * treatment_effect__online_therapy\n",
    "\n",
    "# Calculate reduction in felony rearrests\n",
    "change__felony__any_model = -1 * flagged__felony__any_model * treatment_effect__online_therapy\n",
    "\n",
    "print(\"Changes after online therapy intervention:\")\n",
    "print(f\"Change in nonfelony rearrests: {change__nonfelony__any_model:.1f}\")\n",
    "print(f\"Change in felony rearrests: {change__felony__any_model:.1f}\")"
   ]
  },
  {
   "cell_type": "markdown",
   "id": "2cd25587",
   "metadata": {
    "deletable": false,
    "editable": false,
    "run_control": {
     "frozen": true
    }
   },
   "source": [
    "### Converting into dollar values (1 point)\n",
    "Assume that:\n",
    "- a nonfelony crime costs society \\$5,000 per nonfelony crime\n",
    "- a felony crime costs society \\$100,000 per felony crime\n",
    "\n",
    "Compute:\n",
    "`benefit__online_therapy`: the decline in the social cost of crime as a result of the online therapy intervention.\n",
    "\n",
    "\n"
   ]
  },
  {
   "cell_type": "code",
   "execution_count": 19,
   "id": "e31a057c",
   "metadata": {
    "ExecuteTime": {
     "end_time": "2022-12-08T02:31:04.496811Z",
     "start_time": "2022-12-08T02:31:04.478446Z"
    }
   },
   "outputs": [],
   "source": [
    "cost_nonfelony = 5000\n",
    "cost_felony = 100000"
   ]
  },
  {
   "cell_type": "code",
   "execution_count": 20,
   "id": "a05a4d58",
   "metadata": {
    "ExecuteTime": {
     "end_time": "2022-12-08T02:31:04.726963Z",
     "start_time": "2022-12-08T02:31:04.703889Z"
    }
   },
   "outputs": [
    {
     "name": "stdout",
     "output_type": "stream",
     "text": [
      "Total benefit from online therapy intervention: $697,000.00\n"
     ]
    }
   ],
   "source": [
    "# Calculate total benefit from reductions in both types of crime\n",
    "# Calculate benefit (make positive since it's a savings)\n",
    "benefit__online_therapy = (\n",
    "    (-change__nonfelony__any_model * cost_nonfelony) + \n",
    "    (-change__felony__any_model * cost_felony)\n",
    ")\n",
    "\n",
    "print(f\"Total benefit from online therapy intervention: ${benefit__online_therapy:,.2f}\")"
   ]
  },
  {
   "cell_type": "markdown",
   "id": "b588cb24",
   "metadata": {
    "ExecuteTime": {
     "end_time": "2022-12-07T21:46:49.624185Z",
     "start_time": "2022-12-07T21:46:49.613616Z"
    },
    "deletable": false,
    "editable": false,
    "run_control": {
     "frozen": true
    }
   },
   "source": [
    "### Calculate the social cost of Online Therapy (1 point)\n",
    "Assume that each person who is offered online therapy but who would not have been re-arrested (i.e. a False Positive) suffers a social cost \\$1,000. \n",
    "\n",
    "1. Calculate `num_FP__online_therapy`: the number of False Positives among those at high risk of any rearrest. (A false positive here is someone who is predicted to be at high risk of any rearrest but is not re-arrested for a crime.)\n",
    "\n",
    "2. Calculate `social_cost_online_therapy`: the social cost of Online Therapy\n",
    "\n",
    "3. Compute `total_benefit_online_therapy`: the combined cost/benefit of the program (i.e. combining results from previous question with this one)"
   ]
  },
  {
   "cell_type": "code",
   "execution_count": 21,
   "id": "d9c045a0",
   "metadata": {
    "ExecuteTime": {
     "end_time": "2022-12-08T02:31:20.673897Z",
     "start_time": "2022-12-08T02:31:20.652941Z"
    }
   },
   "outputs": [],
   "source": [
    "cost_online_therapy=1000"
   ]
  },
  {
   "cell_type": "code",
   "execution_count": 22,
   "id": "29922fe5",
   "metadata": {
    "ExecuteTime": {
     "end_time": "2022-12-08T02:31:38.379423Z",
     "start_time": "2022-12-08T02:31:38.363188Z"
    }
   },
   "outputs": [
    {
     "name": "stdout",
     "output_type": "stream",
     "text": [
      "Number of False Positives: 354\n",
      "Social cost of False Positives: $354,000.00\n",
      "Total net benefit: $343,000.00\n"
     ]
    }
   ],
   "source": [
    "# 1. Calculate number of False Positives \n",
    "num_FP__online_therapy = sum(\n",
    "   (holdout['yhat__any'] == 1) & \n",
    "   (holdout['outcome__any'] == 0)\n",
    ")\n",
    "\n",
    "# 2. Calculate social cost from False Positives\n",
    "social_cost_online_therapy = num_FP__online_therapy * cost_online_therapy\n",
    "\n",
    "# 3. Calculate total benefit (benefits minus costs)\n",
    "total_benefit_online_therapy = benefit__online_therapy - social_cost_online_therapy\n",
    "\n",
    "print(f\"Number of False Positives: {num_FP__online_therapy}\")\n",
    "print(f\"Social cost of False Positives: ${social_cost_online_therapy:,.2f}\")\n",
    "print(f\"Total net benefit: ${total_benefit_online_therapy:,.2f}\")"
   ]
  },
  {
   "cell_type": "code",
   "execution_count": null,
   "id": "13338172",
   "metadata": {
    "ExecuteTime": {
     "end_time": "2022-12-08T02:31:50.289970Z",
     "start_time": "2022-12-08T02:31:50.265840Z"
    }
   },
   "outputs": [],
   "source": []
  },
  {
   "cell_type": "markdown",
   "id": "a223a363",
   "metadata": {
    "deletable": false,
    "editable": false,
    "run_control": {
     "frozen": true
    }
   },
   "source": [
    "## Detention \n",
    "### Number of arrests before the intervention (1 point)\n",
    "Created the following two variables:\n",
    "- `flagged__nonfelony__felony_model` -  The number of nonfelony rearrests among those predicted to be at high risk of felony rearrest before the intervention\n",
    "- `flagged__felony__felony_model` -  The number of felony rearrests among those predicted to be at high risk of felony rearrest before the intervention"
   ]
  },
  {
   "cell_type": "code",
   "execution_count": 23,
   "id": "6fb2c806",
   "metadata": {
    "ExecuteTime": {
     "end_time": "2022-12-08T02:32:51.126871Z",
     "start_time": "2022-12-08T02:32:51.102629Z"
    }
   },
   "outputs": [
    {
     "name": "stdout",
     "output_type": "stream",
     "text": [
      "Among those flagged as high risk of felony rearrest:\n",
      "Number of nonfelony rearrests: 12\n",
      "Number of felony rearrests: 22\n"
     ]
    }
   ],
   "source": [
    "# Calculate nonfelony rearrests for those flagged by felony model\n",
    "flagged__nonfelony__felony_model = sum(\n",
    "   (holdout['yhat__felony'] == 1) & \n",
    "   (holdout['outcome__any'] == 1) & \n",
    "   (holdout['outcome__felony'] == 0)\n",
    ")\n",
    "\n",
    "# Calculate felony rearrests for those flagged by felony model\n",
    "flagged__felony__felony_model = sum(\n",
    "   (holdout['yhat__felony'] == 1) & \n",
    "   (holdout['outcome__felony'] == 1)\n",
    ")\n",
    "\n",
    "print(\"Among those flagged as high risk of felony rearrest:\")\n",
    "print(f\"Number of nonfelony rearrests: {flagged__nonfelony__felony_model}\")\n",
    "print(f\"Number of felony rearrests: {flagged__felony__felony_model}\")"
   ]
  },
  {
   "cell_type": "markdown",
   "id": "8e590444",
   "metadata": {
    "deletable": false,
    "editable": false,
    "run_control": {
     "frozen": true
    }
   },
   "source": [
    "### Effect of intervention (1 point)\n",
    "Using information about the treatment effect of the intervention, create the following two variables:\n",
    "- `change__nonfelony__felony_model` - The change in the number of nonfelony rearrests among those predicted to be at high risk of felony rearrest after the intervention\n",
    "\n",
    "- `change__felony__felony_model` - The change in the number of felony rearrests among those predicted to be at high risk of felony rearrest after the intervention"
   ]
  },
  {
   "cell_type": "code",
   "execution_count": 24,
   "id": "b7848636",
   "metadata": {
    "ExecuteTime": {
     "end_time": "2022-12-08T02:34:48.975658Z",
     "start_time": "2022-12-08T02:34:48.943617Z"
    }
   },
   "outputs": [
    {
     "name": "stdout",
     "output_type": "stream",
     "text": [
      "Changes after detention intervention:\n",
      "Change in nonfelony rearrests: -8.4\n",
      "Change in felony rearrests: -15.4\n"
     ]
    }
   ],
   "source": [
    "# Calculate reduction in nonfelony rearrests for detention program\n",
    "change__nonfelony__felony_model = -1 * flagged__nonfelony__felony_model * treatment_effect__detention\n",
    "\n",
    "# Calculate reduction in felony rearrests for detention program\n",
    "change__felony__felony_model = -1 * flagged__felony__felony_model * treatment_effect__detention\n",
    "\n",
    "print(\"Changes after detention intervention:\")\n",
    "print(f\"Change in nonfelony rearrests: {change__nonfelony__felony_model:.1f}\")\n",
    "print(f\"Change in felony rearrests: {change__felony__felony_model:.1f}\")"
   ]
  },
  {
   "cell_type": "markdown",
   "id": "332cf63f",
   "metadata": {
    "deletable": false,
    "editable": false,
    "run_control": {
     "frozen": true
    }
   },
   "source": [
    "### Converting into dollar values (1 point)\n",
    "As above, assume that:\n",
    "- a nonfelony crime costs society \\$5,000 per nonfelony crime\n",
    "- a felony crime costs society \\$100,000 per felony crime\n",
    "\n",
    "Compute `benefit_detention`: the decline in the social cost of crime as a result of detention\n",
    "\n",
    "\n"
   ]
  },
  {
   "cell_type": "code",
   "execution_count": 25,
   "id": "444c2af7",
   "metadata": {
    "ExecuteTime": {
     "end_time": "2022-12-08T02:35:23.271674Z",
     "start_time": "2022-12-08T02:35:23.255131Z"
    }
   },
   "outputs": [
    {
     "name": "stdout",
     "output_type": "stream",
     "text": [
      "Total benefit from detention intervention: $1,582,000.00\n"
     ]
    }
   ],
   "source": [
    "# Calculate total benefit from reductions in both types of crime\n",
    "benefit_detention = (\n",
    "   (-change__nonfelony__felony_model * cost_nonfelony) + \n",
    "   (-change__felony__felony_model * cost_felony)\n",
    ")\n",
    "\n",
    "print(f\"Total benefit from detention intervention: ${benefit_detention:,.2f}\")"
   ]
  },
  {
   "cell_type": "markdown",
   "id": "21636a7e",
   "metadata": {
    "deletable": false,
    "editable": false,
    "run_control": {
     "frozen": true
    }
   },
   "source": [
    "### Calculate the social cost of detention (1 point)\n",
    "Assume that each person falsely detained suffers a social cost \\$30,000.\n",
    "\n",
    "1. Calculate `num_FP__detention` the number of False Positives among those at high risk of felony rearrest. (A false positive here is someone who is predicted to be at high risk of felony rearrest but is not re-arrested for a felony crime.)\n",
    "\n",
    "2. Compute `social_cost_detention`: the social cost of detention\n",
    "\n",
    "3. Compute `total_benefit_detention`: the combined cost/benefit of the program (i.e. combining results from previous question with this one)"
   ]
  },
  {
   "cell_type": "code",
   "execution_count": 26,
   "id": "490bbb44",
   "metadata": {
    "ExecuteTime": {
     "end_time": "2022-12-08T02:36:12.803578Z",
     "start_time": "2022-12-08T02:36:12.790997Z"
    }
   },
   "outputs": [],
   "source": [
    "cost_detention = 30000"
   ]
  },
  {
   "cell_type": "code",
   "execution_count": 27,
   "id": "d6cd6bb4",
   "metadata": {
    "ExecuteTime": {
     "end_time": "2022-12-08T02:36:13.748102Z",
     "start_time": "2022-12-08T02:36:13.719073Z"
    }
   },
   "outputs": [
    {
     "name": "stdout",
     "output_type": "stream",
     "text": [
      "Number of False Positives: 78\n",
      "Social cost of False Positives: $2,340,000.00\n",
      "Total net benefit: $-758,000.00\n"
     ]
    }
   ],
   "source": [
    "# 1. Calculate number of False Positives for detention\n",
    "num_FP__detention = sum(\n",
    "   (holdout['yhat__felony'] == 1) & \n",
    "   (holdout['outcome__felony'] == 0)\n",
    ")\n",
    "\n",
    "# 2. Calculate social cost from False Positives\n",
    "social_cost_detention = num_FP__detention * cost_detention\n",
    "\n",
    "# 3. Calculate total benefit (benefits minus costs)\n",
    "total_benefit_detention = benefit_detention - social_cost_detention\n",
    "\n",
    "print(f\"Number of False Positives: {num_FP__detention}\")\n",
    "print(f\"Social cost of False Positives: ${social_cost_detention:,.2f}\")\n",
    "print(f\"Total net benefit: ${total_benefit_detention:,.2f}\")"
   ]
  },
  {
   "cell_type": "markdown",
   "id": "8a4c78ed",
   "metadata": {
    "deletable": false,
    "editable": false,
    "run_control": {
     "frozen": true
    }
   },
   "source": [
    "# Fairness\n",
    "## PPV Balance (1 point)\n",
    "\n",
    "1. In your own words, describe why we would want an algorithm to achieve balance in PPV? (Think about NorthPointe's justification re: Compas algorithm) \n",
    "\n",
    "1. Compute the PPV for those at high risk of any-rearrest (when evaluating on `outcome__any`) separately for the two groups\n",
    "\n",
    "1. Compute the PPV for those at high risk of felony-rearrest (when evaluating on `outcome__felony`) separately for the race groups"
   ]
  },
  {
   "cell_type": "code",
   "execution_count": 28,
   "id": "f15d1c54",
   "metadata": {
    "ExecuteTime": {
     "end_time": "2022-12-08T02:39:26.016270Z",
     "start_time": "2022-12-08T02:39:25.996912Z"
    }
   },
   "outputs": [
    {
     "name": "stdout",
     "output_type": "stream",
     "text": [
      "PPV for any-rearrest, Group 0: 0.289\n",
      "PPV for any-rearrest, Group 1: 0.294\n",
      "PPV for felony-rearrest, Group 0: 0.244\n",
      "PPV for felony-rearrest, Group 1: 0.203\n"
     ]
    }
   ],
   "source": [
    "# PPV for any-rearrest by group\n",
    "for group in [0, 1]:\n",
    "    ppv = precision_score(\n",
    "        holdout.loc[holdout['group'] == group, 'outcome__any'],\n",
    "        holdout.loc[holdout['group'] == group, 'yhat__any']\n",
    "    )\n",
    "    print(f\"PPV for any-rearrest, Group {group}: {ppv:.3f}\")\n",
    "    \n",
    "# PPV for felony-rearrest by group\n",
    "for group in [0, 1]:\n",
    "    ppv = precision_score(\n",
    "        holdout.loc[holdout['group'] == group, 'outcome__felony'],\n",
    "        holdout.loc[holdout['group'] == group, 'yhat__felony']\n",
    "    )\n",
    "    print(f\"PPV for felony-rearrest, Group {group}: {ppv:.3f}\")"
   ]
  },
  {
   "cell_type": "markdown",
   "id": "8706d1c8",
   "metadata": {
    "ExecuteTime": {
     "end_time": "2022-05-10T21:36:29.960325Z",
     "start_time": "2022-05-10T21:36:29.879877Z"
    },
    "deletable": false,
    "editable": false,
    "run_control": {
     "frozen": true
    }
   },
   "source": [
    "\n",
    "## FPR Balance (1 point)\n",
    "1. In your own words, describe why we would want an algorithm to achieve balance in False Positive Rates? (Think about Pro Publica's argument)\n",
    "\n",
    "1. Compute the FPR for those at high risk of any-rearrest (when evaluating on `outcome__any`) separately for the two groups\n",
    "\n",
    "1. Compute the FPR for those at high risk of felony-rearrest (when evaluating on `outcome__felony`) separately for the two  groups\n"
   ]
  },
  {
   "cell_type": "markdown",
   "id": "4418319f-b2ea-4470-9169-c4bddf97dd7e",
   "metadata": {
    "ExecuteTime": {
     "end_time": "2022-12-08T02:39:43.680861Z",
     "start_time": "2022-12-08T02:39:43.653385Z"
    },
    "tags": []
   },
   "source": [
    "#### Balance in false positive rates is important because unequal FPRs mean one group faces disproportionate consequences despite not committing crimes. ProPublica said that COMPAS was unfair because it labeled Black defendants who didn't reoffend as high-risk at nearly twice the rate as white defendants who didn't reoffend. This disparity subjects one group to more unwarranted interventions, surveillance, or detention, perpetuating systemic inequities even when individuals haven't committed any crimes."
   ]
  },
  {
   "cell_type": "code",
   "execution_count": 29,
   "id": "d93abbfb-c62d-4db7-b26f-536eb7ba9a3a",
   "metadata": {},
   "outputs": [
    {
     "name": "stdout",
     "output_type": "stream",
     "text": [
      "FPR for any-rearrest, Group 0: 0.120\n",
      "FPR for any-rearrest, Group 1: 0.211\n"
     ]
    }
   ],
   "source": [
    "# Calculate FPR for any-rearrest by group\n",
    "for group in [0, 1]:\n",
    "    group_data = holdout[holdout['group'] == group]\n",
    "    # FPR = False Positives / (False Positives + True Negatives)\n",
    "    fpr = sum((group_data['yhat__any'] == 1) & (group_data['outcome__any'] == 0)) / \\\n",
    "          sum(group_data['outcome__any'] == 0)\n",
    "    print(f\"FPR for any-rearrest, Group {group}: {fpr:.3f}\")"
   ]
  },
  {
   "cell_type": "code",
   "execution_count": 30,
   "id": "97ab5933-5187-4fdb-b3a8-29686b92c245",
   "metadata": {},
   "outputs": [
    {
     "name": "stdout",
     "output_type": "stream",
     "text": [
      "FPR for felony-rearrest, Group 0: 0.023\n",
      "FPR for felony-rearrest, Group 1: 0.042\n"
     ]
    }
   ],
   "source": [
    "# Calculate FPR for felony-rearrest by group\n",
    "for group in [0, 1]:\n",
    "    group_data = holdout[holdout['group'] == group]\n",
    "    # FPR = False Positives / (False Positives + True Negatives)\n",
    "    fpr = sum((group_data['yhat__felony'] == 1) & (group_data['outcome__felony'] == 0)) / \\\n",
    "          sum(group_data['outcome__felony'] == 0)\n",
    "    print(f\"FPR for felony-rearrest, Group {group}: {fpr:.3f}\")"
   ]
  },
  {
   "cell_type": "markdown",
   "id": "cd089323",
   "metadata": {
    "deletable": false,
    "editable": false,
    "run_control": {
     "frozen": true
    }
   },
   "source": [
    "## FNR Balance (1 point)\n",
    "1. In your own words, describe why we would want an algorithm to achieve balance in False Negative Rates? (Think about Pro Publica's argument)\n",
    "\n",
    "1. Compute the FNR for those at high risk of any-rearrest (when evaluating on `outcome__any`) separately for the two groups\n",
    "\n",
    "1. Compute the FNR for those at high risk of felony-rearrest (when evaluating on `outcome__felony`) separately for the two  groups"
   ]
  },
  {
   "cell_type": "markdown",
   "id": "912c8850-a78b-406c-83a7-5b1640be44bb",
   "metadata": {
    "ExecuteTime": {
     "end_time": "2022-12-08T02:40:14.423498Z",
     "start_time": "2022-12-08T02:40:14.400639Z"
    }
   },
   "source": [
    "#### Balance in false negative rates is important because unequal FNRs mean one group's actual reoffenders are being missed more often than another group's. In the context of ProPublica's argument, if the algorithm fails to identify actual reoffenders at different rates between groups, it could mean that high-risk individuals in one group are more likely to be overlooked than another. This disparity could result in missed opportunities for intervention in one group, potentially leading to preventable crimes and unequal public safety outcomes across communities."
   ]
  },
  {
   "cell_type": "markdown",
   "id": "0c0d9337",
   "metadata": {
    "ExecuteTime": {
     "end_time": "2021-12-09T02:22:46.142008Z",
     "start_time": "2021-12-09T02:22:46.115923Z"
    },
    "deletable": true,
    "run_control": {
     "frozen": false
    },
    "tags": []
   },
   "source": [
    "# Make your decision (3 points)\n",
    "You have generated the following:\n",
    "- The social benefit of online therapy\n",
    "- The social cost of online therapy\n",
    "- The social benefit of detention\n",
    "- The social cost of detention \n",
    "- The three disparities metrics for both algorithms\n",
    "\n",
    "\n",
    "Recall that the policy objective of your community is to reduce crime by intervening with people who are high risk. One intervention targets violent offenses and involves detaining the high risk. The other intervention targets all offenses and involves offering individuals online therapy. \n",
    "\n",
    "Using the data and metrics you've generated, analyze both algorithms and make a recommendation.\n",
    "Which one of these algorithms would you say best fits the policy objective?\n",
    "\n",
    "Structure your response as follows (as in make sure your response includes analysis of the following):\n",
    "\n",
    "A. Technical Performance (1 point)\n",
    "- Compare the predictive accuracy of both models\n",
    "- Analyze the false positive and false negative rates\n",
    "\n",
    "B. Social Impact and Fairness (1 point)\n",
    "- Compare the social costs/benefits \n",
    "- Compare the disparate impact on different groups\n",
    "- Analyze who bears the burden of false positives\n",
    "\n",
    "C. Implementation and Policy Alignment (1 point)\n",
    "- Assess how well each model aligns with the policy goal\n",
    "\n",
    "\n"
   ]
  },
  {
   "cell_type": "markdown",
   "id": "67d76a64-31c8-4f97-a494-54d61945c871",
   "metadata": {},
   "source": [
    "#### Based on the analysis of both interventions, I would recommend using the online therapy program targeting any rearrest rather than the detention program focused on felonies. While both show similar disparities in false positive rates between groups, the therapy program's intervention lets us to cast a wider net while causing less harm when we get it wrong. \n",
    "\n",
    "#### The data we ended up with supports this. The therapy program shows a positive net benefit of 341,000 to society, while the detention program actually costs society nearly a million dollars more than the crimes it prevents. This huge difference comes down to the human cost of false positives. When the therapy program incorrectly flags someone as high-risk, they receive unnecessary mental health support at a cost of 1,000. But when the detention program gets it wrong, someone faces unwarranted detention at a huge cost of 30,000. With 355 false positives in the therapy program and 80 in the detention program, these individual impacts add up in a major way.\n",
    "\n",
    "#### Both programs struggle with fairness. Members of Group 1 who don't reoffend are about twice as likely to be flagged as high-risk compared to Group 0. While this disparity is concerning and needs to be addressed, the lighter effect of the therapy program means these mistakes don't devastate people's lives the way wrongful detention would. The therapy program can also help more people, with capacity for 500 participants versus detention's 100 slots.\n",
    "\n",
    "#### Ultimately, since we are so uncertain in predicting future crimes, I think we should favor rehabilitation over incarceration when our predictions are imperfect. The therapy program better serves our community's goal of reducing crime across the board; it shows better predictive accuracy, costs less, helps more people, and focuses on addressing root causes rather than just keeping people locked up. While neither option is perfect or necessarily ideal, the therapy program offers the best balance of effectiveness and fairness while minimizing potential harm."
   ]
  },
  {
   "cell_type": "code",
   "execution_count": null,
   "id": "17021d2a-954e-46ac-8991-6af33b25370d",
   "metadata": {},
   "outputs": [],
   "source": []
  }
 ],
 "metadata": {
  "hide_input": false,
  "kernelspec": {
   "display_name": "Python 3 (ipykernel)",
   "language": "python",
   "name": "python3"
  },
  "language_info": {
   "codemirror_mode": {
    "name": "ipython",
    "version": 3
   },
   "file_extension": ".py",
   "mimetype": "text/x-python",
   "name": "python",
   "nbconvert_exporter": "python",
   "pygments_lexer": "ipython3",
   "version": "3.8.10"
  },
  "latex_envs": {
   "LaTeX_envs_menu_present": true,
   "autoclose": true,
   "autocomplete": true,
   "bibliofile": "biblio.bib",
   "cite_by": "apalike",
   "current_citInitial": 1,
   "eqLabelWithNumbers": true,
   "eqNumInitial": 1,
   "hotkeys": {
    "equation": "Ctrl-E",
    "itemize": "Ctrl-I"
   },
   "labels_anchors": false,
   "latex_user_defs": false,
   "report_style_numbering": false,
   "user_envs_cfg": false
  },
  "toc": {
   "base_numbering": 1,
   "nav_menu": {},
   "number_sections": true,
   "sideBar": true,
   "skip_h1_title": false,
   "title_cell": "Table of Contents",
   "title_sidebar": "Contents",
   "toc_cell": false,
   "toc_position": {
    "height": "calc(100% - 180px)",
    "left": "10px",
    "top": "150px",
    "width": "178px"
   },
   "toc_section_display": true,
   "toc_window_display": true
  }
 },
 "nbformat": 4,
 "nbformat_minor": 5
}
